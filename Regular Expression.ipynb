{
 "cells": [
  {
   "cell_type": "markdown",
   "metadata": {},
   "source": [
    "[regular expression cheat sheet](https://www.dataquest.io/blog/regex-cheatsheet/)"
   ]
  },
  {
   "cell_type": "markdown",
   "metadata": {},
   "source": [
    ". - A period. Matches any single character except newline character."
   ]
  },
  {
   "cell_type": "code",
   "execution_count": 9,
   "metadata": {},
   "outputs": [
    {
     "data": {
      "text/plain": [
       "'Cookie'"
      ]
     },
     "execution_count": 9,
     "metadata": {},
     "output_type": "execute_result"
    }
   ],
   "source": [
    "re.search(r'Co.k.e', 'Cookie').group()"
   ]
  },
  {
   "cell_type": "markdown",
   "metadata": {},
   "source": [
    "\\w - Lowercase w. Matches any single letter, digit or underscore."
   ]
  },
  {
   "cell_type": "code",
   "execution_count": 10,
   "metadata": {},
   "outputs": [
    {
     "data": {
      "text/plain": [
       "'Cookie'"
      ]
     },
     "execution_count": 10,
     "metadata": {},
     "output_type": "execute_result"
    }
   ],
   "source": [
    "re.search(r'Co\\wk\\we', 'Cookie').group()"
   ]
  },
  {
   "cell_type": "markdown",
   "metadata": {},
   "source": [
    "\\W - Uppercase w. Matches any character not part of \\w (lowercase w)."
   ]
  },
  {
   "cell_type": "code",
   "execution_count": 11,
   "metadata": {},
   "outputs": [
    {
     "data": {
      "text/plain": [
       "'C@ke'"
      ]
     },
     "execution_count": 11,
     "metadata": {},
     "output_type": "execute_result"
    }
   ],
   "source": [
    "re.search(r'C\\Wke', 'C@ke').group()"
   ]
  },
  {
   "cell_type": "markdown",
   "metadata": {},
   "source": [
    "\\s - Lowercase s. Matches a single whitespace character like: space, newline, tab, return."
   ]
  },
  {
   "cell_type": "code",
   "execution_count": 12,
   "metadata": {},
   "outputs": [
    {
     "data": {
      "text/plain": [
       "'Eat cake'"
      ]
     },
     "execution_count": 12,
     "metadata": {},
     "output_type": "execute_result"
    }
   ],
   "source": [
    "re.search(r'Eat\\scake', 'Eat cake').group()"
   ]
  },
  {
   "cell_type": "markdown",
   "metadata": {},
   "source": [
    "\\S - Uppercase s. Matches any character not part of \\s (lowercase s)."
   ]
  },
  {
   "cell_type": "code",
   "execution_count": 13,
   "metadata": {},
   "outputs": [
    {
     "data": {
      "text/plain": [
       "'Cookie'"
      ]
     },
     "execution_count": 13,
     "metadata": {},
     "output_type": "execute_result"
    }
   ],
   "source": [
    "re.search(r'Cook\\Se', 'Cookie').group()"
   ]
  },
  {
   "cell_type": "markdown",
   "metadata": {},
   "source": [
    "\\t - Lowercase t. Matches tab."
   ]
  },
  {
   "cell_type": "code",
   "execution_count": null,
   "metadata": {},
   "outputs": [],
   "source": []
  },
  {
   "cell_type": "markdown",
   "metadata": {},
   "source": [
    "\n",
    "\n",
    "  \\n - Lowercase n. Matches newline.\n",
    "\n",
    "  \\r - Lowercase r. Matches return.\n",
    "\n",
    "  \\d - Lowercase d. Matches decimal digit 0-9.\n"
   ]
  },
  {
   "cell_type": "code",
   "execution_count": 20,
   "metadata": {},
   "outputs": [
    {
     "data": {
      "text/plain": [
       "'c00kie'"
      ]
     },
     "execution_count": 20,
     "metadata": {},
     "output_type": "execute_result"
    }
   ],
   "source": [
    "re.search(r'c\\d\\dkie', 'c00kie').group()"
   ]
  },
  {
   "cell_type": "markdown",
   "metadata": {},
   "source": [
    "^ - Caret. Matches a pattern at the start of the string."
   ]
  },
  {
   "cell_type": "code",
   "execution_count": 21,
   "metadata": {},
   "outputs": [
    {
     "data": {
      "text/plain": [
       "'Eat'"
      ]
     },
     "execution_count": 21,
     "metadata": {},
     "output_type": "execute_result"
    }
   ],
   "source": [
    "re.search(r'^Eat', 'Eat cake').group()"
   ]
  },
  {
   "cell_type": "markdown",
   "metadata": {},
   "source": [
    "$ - Matches a pattern at the end of string."
   ]
  },
  {
   "cell_type": "code",
   "execution_count": 22,
   "metadata": {},
   "outputs": [
    {
     "data": {
      "text/plain": [
       "'cake'"
      ]
     },
     "execution_count": 22,
     "metadata": {},
     "output_type": "execute_result"
    }
   ],
   "source": [
    "re.search(r'cake$', 'Eat cake').group()"
   ]
  },
  {
   "cell_type": "markdown",
   "metadata": {},
   "source": [
    "[abc] - Matches a or b or c."
   ]
  },
  {
   "cell_type": "markdown",
   "metadata": {},
   "source": [
    "[a-zA-Z0-9] - Matches any letter from (a to z) or (A to Z) or (0 to 9). Characters that are not within a range can be matched by complementing the set. If the first character of the set is ^, all the characters that are not in the set will be matched."
   ]
  },
  {
   "cell_type": "code",
   "execution_count": 26,
   "metadata": {},
   "outputs": [
    {
     "data": {
      "text/plain": [
       "'Number: 5'"
      ]
     },
     "execution_count": 26,
     "metadata": {},
     "output_type": "execute_result"
    }
   ],
   "source": [
    "re.search(r'Number: [0-9]', 'Number: 5').group()"
   ]
  },
  {
   "cell_type": "code",
   "execution_count": 27,
   "metadata": {},
   "outputs": [
    {
     "data": {
      "text/plain": [
       "'Number: 0'"
      ]
     },
     "execution_count": 27,
     "metadata": {},
     "output_type": "execute_result"
    }
   ],
   "source": [
    "# Matches any character except 5\n",
    "re.search(r'Number: [^5]', 'Number: 0').group()"
   ]
  },
  {
   "cell_type": "markdown",
   "metadata": {},
   "source": [
    "\\A - Uppercase a. Matches only at the start of the string. Works across multiple lines as well."
   ]
  },
  {
   "cell_type": "code",
   "execution_count": 28,
   "metadata": {},
   "outputs": [
    {
     "data": {
      "text/plain": [
       "'Cookie'"
      ]
     },
     "execution_count": 28,
     "metadata": {},
     "output_type": "execute_result"
    }
   ],
   "source": [
    "re.search(r'\\A[A-E]ookie', 'Cookie').group()"
   ]
  },
  {
   "cell_type": "markdown",
   "metadata": {},
   "source": [
    "\\b - Lowercase b. Matches only the beginning or end of the word."
   ]
  },
  {
   "cell_type": "code",
   "execution_count": 29,
   "metadata": {},
   "outputs": [
    {
     "data": {
      "text/plain": [
       "'Cookie'"
      ]
     },
     "execution_count": 29,
     "metadata": {},
     "output_type": "execute_result"
    }
   ],
   "source": [
    "re.search(r'\\b[A-E]ookie', 'Cookie').group()"
   ]
  },
  {
   "cell_type": "markdown",
   "metadata": {},
   "source": [
    "\\ - Backslash. If the character following the backslash is a recognized escape character, then the special meaning of the term is taken. For example, \\n is considered as newline. However, if the character following the \\ is not a recognized escape character, then the \\ is treated like any other character and passed through."
   ]
  },
  {
   "cell_type": "code",
   "execution_count": 30,
   "metadata": {},
   "outputs": [
    {
     "data": {
      "text/plain": [
       "'Back\\\\stail'"
      ]
     },
     "execution_count": 30,
     "metadata": {},
     "output_type": "execute_result"
    }
   ],
   "source": [
    "# This checks for '\\' in the string instead of '\\t' due to the '\\' used \n",
    "re.search(r'Back\\\\stail', 'Back\\stail').group()"
   ]
  },
  {
   "cell_type": "code",
   "execution_count": 31,
   "metadata": {},
   "outputs": [
    {
     "data": {
      "text/plain": [
       "'Back tail'"
      ]
     },
     "execution_count": 31,
     "metadata": {},
     "output_type": "execute_result"
    }
   ],
   "source": [
    "# This treats '\\s' as an escape character because it lacks '\\' at the start of '\\s'\n",
    "re.search(r'Back\\stail', 'Back tail').group()"
   ]
  },
  {
   "cell_type": "markdown",
   "metadata": {},
   "source": [
    "## Repetitions\n",
    "\n",
    "It becomes quite tedious if you are looking to find long patterns in a sequence. Fortunately, the re module handles repetitions using the following special characters:\n",
    "\n",
    "    + -> Checks for one or more characters to its left.\n"
   ]
  },
  {
   "cell_type": "code",
   "execution_count": 32,
   "metadata": {},
   "outputs": [
    {
     "data": {
      "text/plain": [
       "'Cooookie'"
      ]
     },
     "execution_count": 32,
     "metadata": {},
     "output_type": "execute_result"
    }
   ],
   "source": [
    "re.search(r'Co+kie', 'Cooookie').group()"
   ]
  },
  {
   "cell_type": "markdown",
   "metadata": {},
   "source": [
    "    * -> Checks for zero or more characters to its left."
   ]
  },
  {
   "cell_type": "code",
   "execution_count": 33,
   "metadata": {},
   "outputs": [
    {
     "data": {
      "text/plain": [
       "'Caokie'"
      ]
     },
     "execution_count": 33,
     "metadata": {},
     "output_type": "execute_result"
    }
   ],
   "source": [
    "# Checks for any occurrence of a or o or both in the given sequence\n",
    "re.search(r'Ca*o*kie', 'Caokie').group()"
   ]
  },
  {
   "cell_type": "code",
   "execution_count": 35,
   "metadata": {},
   "outputs": [
    {
     "data": {
      "text/plain": [
       "'Caaooookie'"
      ]
     },
     "execution_count": 35,
     "metadata": {},
     "output_type": "execute_result"
    }
   ],
   "source": [
    "re.search(r'Ca*o*kie', 'Caaooookie').group()"
   ]
  },
  {
   "cell_type": "code",
   "execution_count": 36,
   "metadata": {},
   "outputs": [
    {
     "data": {
      "text/plain": [
       "'Caaaaoooooooooookie'"
      ]
     },
     "execution_count": 36,
     "metadata": {},
     "output_type": "execute_result"
    }
   ],
   "source": [
    "re.search(r'Ca*o*kie', 'Caaaaoooooooooookie').group()"
   ]
  },
  {
   "cell_type": "markdown",
   "metadata": {},
   "source": [
    "    ? -> Checks for exactly zero or one character to its left."
   ]
  },
  {
   "cell_type": "code",
   "execution_count": 37,
   "metadata": {},
   "outputs": [
    {
     "data": {
      "text/plain": [
       "'Color'"
      ]
     },
     "execution_count": 37,
     "metadata": {},
     "output_type": "execute_result"
    }
   ],
   "source": [
    "# Checks for exactly zero or one occurrence of a or o or both in the given sequence\n",
    "re.search(r'Colou?r', 'Color').group()"
   ]
  },
  {
   "cell_type": "markdown",
   "metadata": {},
   "source": [
    "{x} - Repeat exactly x number of times.\n",
    "\n",
    "{x,} - Repeat at least x times or more.\n",
    "\n",
    "{x, y} - Repeat at least x times but no more than y times."
   ]
  },
  {
   "cell_type": "code",
   "execution_count": 42,
   "metadata": {},
   "outputs": [
    {
     "data": {
      "text/plain": [
       "'0987654321'"
      ]
     },
     "execution_count": 42,
     "metadata": {},
     "output_type": "execute_result"
    }
   ],
   "source": [
    "re.search(r'\\d{9,10}', '0987654321').group()"
   ]
  },
  {
   "cell_type": "markdown",
   "metadata": {},
   "source": [
    "    The + and * qualifiers are said to be  greedy"
   ]
  },
  {
   "cell_type": "markdown",
   "metadata": {},
   "source": [
    "### Greedy vs Non-Greedy Matching\n",
    "\n",
    "When a special character matches as much of the search sequence (string) as possible, it is said to be a \"Greedy Match\". It is the normal behavior of a regular expression but sometimes this behavior is not desired:"
   ]
  },
  {
   "cell_type": "code",
   "execution_count": 43,
   "metadata": {},
   "outputs": [
    {
     "data": {
      "text/plain": [
       "'<h1>TITLE</h1>'"
      ]
     },
     "execution_count": 43,
     "metadata": {},
     "output_type": "execute_result"
    }
   ],
   "source": [
    "pattern = \"cookie\"\n",
    "sequence = \"Cake and cookie\"\n",
    "\n",
    "heading  = r'<h1>TITLE</h1>'\n",
    "re.match(r'<.*>', heading).group()"
   ]
  },
  {
   "cell_type": "code",
   "execution_count": 44,
   "metadata": {},
   "outputs": [
    {
     "data": {
      "text/plain": [
       "'<h1>'"
      ]
     },
     "execution_count": 44,
     "metadata": {},
     "output_type": "execute_result"
    }
   ],
   "source": [
    "heading  = r'<h1>TITLE</h1>'\n",
    "re.match(r'<.*?>', heading).group()"
   ]
  },
  {
   "cell_type": "markdown",
   "metadata": {},
   "source": [
    "### search(pattern, string, flags=0)\n",
    "\n",
    "With this function, you scan through the given string/sequence looking for the first location where the regular expression produces a match. It returns a corresponding match object if found, else returns None if no position in the string matches the pattern. Note that None is different from finding a zero-length match at some point in the string."
   ]
  },
  {
   "cell_type": "code",
   "execution_count": 45,
   "metadata": {},
   "outputs": [
    {
     "data": {
      "text/plain": [
       "'cookie'"
      ]
     },
     "execution_count": 45,
     "metadata": {},
     "output_type": "execute_result"
    }
   ],
   "source": [
    "pattern = \"cookie\"\n",
    "sequence = \"Cake and cookie\"\n",
    "\n",
    "re.search(pattern, sequence).group()"
   ]
  },
  {
   "cell_type": "markdown",
   "metadata": {},
   "source": [
    "#### search() versus match()\n",
    "\n",
    "The match() function checks for a match only at the beginning of the string (by default) whereas the search() function checks for a match anywhere in the string."
   ]
  },
  {
   "cell_type": "markdown",
   "metadata": {},
   "source": [
    "### match(pattern, string, flags=0)\n",
    "\n",
    "Returns a corresponding match object if zero or more characters at the beginning of string match the pattern. Else it returns None, if the string does not match the given pattern."
   ]
  },
  {
   "cell_type": "code",
   "execution_count": 1,
   "metadata": {},
   "outputs": [],
   "source": [
    "import re\n",
    "\n",
    "pattern = \"C\"\n",
    "sequence1 = \"IceCream\"\n",
    "\n",
    "# No match since \"C\" is not at the start of \"IceCream\"\n",
    "re.match(pattern, sequence1)"
   ]
  },
  {
   "cell_type": "code",
   "execution_count": 5,
   "metadata": {},
   "outputs": [
    {
     "data": {
      "text/plain": [
       "'C'"
      ]
     },
     "execution_count": 5,
     "metadata": {},
     "output_type": "execute_result"
    }
   ],
   "source": [
    "sequence2 = \"Cake\"\n",
    "\n",
    "re.match(pattern,sequence2).group()"
   ]
  },
  {
   "cell_type": "markdown",
   "metadata": {},
   "source": [
    "# findall(pattern, string, flags=0)\n",
    "<br>\n",
    "\n",
    "<font size=2>Finds all the possible matches in the entire sequence and returns them as a list of strings. Each returned string represents one match.</font>"
   ]
  },
  {
   "cell_type": "code",
   "execution_count": 6,
   "metadata": {},
   "outputs": [
    {
     "name": "stdout",
     "output_type": "stream",
     "text": [
      "support@datacamp.com\n",
      "xyz@datacamp.com\n"
     ]
    }
   ],
   "source": [
    "email_address = \"Please contact us at: support@datacamp.com, xyz@datacamp.com\"\n",
    "\n",
    "#'addresses' is a list that stores all the possible match\n",
    "addresses = re.findall(r'[\\w\\.-]+@[\\w\\.-]+', email_address)\n",
    "for address in addresses: \n",
    "    print(address)"
   ]
  },
  {
   "cell_type": "markdown",
   "metadata": {},
   "source": [
    "# sub(pattern, repl, string, count=0, flags=0)\n",
    "This is the substitute function. It returns the string obtained by replacing or substituting the leftmost non-overlapping occurrences of pattern in string by the replacement repl. If the pattern is not found then the string is returned unchanged."
   ]
  },
  {
   "cell_type": "code",
   "execution_count": 7,
   "metadata": {},
   "outputs": [
    {
     "name": "stdout",
     "output_type": "stream",
     "text": [
      "Please contact us at: support@datacamp.com\n"
     ]
    }
   ],
   "source": [
    "email_address = \"Please contact us at: xyz@datacamp.com\"\n",
    "new_email_address = re.sub(r'([\\w\\.-]+)@([\\w\\.-]+)', r'support@datacamp.com', email_address)\n",
    "print(new_email_address)"
   ]
  },
  {
   "cell_type": "markdown",
   "metadata": {},
   "source": [
    "# compile(pattern, flags=0)\n",
    "\n",
    "Compiles a regular expression pattern into a regular expression object. When you need to use an expression several times in a single program, using the compile() function to save the resulting regular expression object for reuse is more efficient. This is because the compiled versions of the most recent patterns passed to compile() and the module-level matching functions are cached"
   ]
  },
  {
   "cell_type": "code",
   "execution_count": 8,
   "metadata": {},
   "outputs": [
    {
     "data": {
      "text/plain": [
       "'cookie'"
      ]
     },
     "execution_count": 8,
     "metadata": {},
     "output_type": "execute_result"
    }
   ],
   "source": [
    "pattern = re.compile(r\"cookie\")\n",
    "sequence = \"Cake and cookie\"\n",
    "pattern.search(sequence).group()"
   ]
  },
  {
   "cell_type": "markdown",
   "metadata": {},
   "source": [
    "**Tip :** an expression's behavior can be modified by specifying a flags value. You can add flag as an extra argument to the various functions that you have seen in this tutorial. Some of the flags used are: IGNORECASE, DOTALL, MULTILINE, VERBOSE, etc."
   ]
  },
  {
   "cell_type": "markdown",
   "metadata": {},
   "source": [
    "### Case Study: Working with Regular Expressions"
   ]
  },
  {
   "cell_type": "code",
   "execution_count": 46,
   "metadata": {},
   "outputs": [],
   "source": [
    "import re\n",
    "import requests\n",
    "the_idiot_url = 'https://www.gutenberg.org/files/2638/2638-0.txt'"
   ]
  },
  {
   "cell_type": "code",
   "execution_count": 47,
   "metadata": {},
   "outputs": [],
   "source": [
    "def get_book(url):\n",
    "    # Sends a http request to get the text from project Gutenberg\n",
    "    raw = requests.get(url).text\n",
    "    # Discards the metadata from the beginning of the book\n",
    "    start = re.search(r\"\\*\\*\\* START OF THIS PROJECT GUTENBERG EBOOK .* \\*\\*\\*\",raw ).end()\n",
    "    # Discards the metadata from the end of the book\n",
    "    stop = re.search(r\"II\", raw).start()\n",
    "    # Keeps the relevant text\n",
    "    text = raw[start:stop]\n",
    "    return text"
   ]
  },
  {
   "cell_type": "code",
   "execution_count": 48,
   "metadata": {},
   "outputs": [
    {
     "name": "stdout",
     "output_type": "stream",
     "text": [
      " produced by martin adamson david widger with corrections by andrew sly the idiot by fyodor dostoyevsky translated by eva martin part i i. towards the end of november during a thaw at nine o clock one morning a train on the warsaw and petersburg railway was approaching the latter city at full speed. the morning was so damp and misty that it was only with great difficulty that the day succeeded in breaking and it was impossible to distinguish anything more than a few yards away from the carriage windows. some of the passengers by this particular train were returning from abroad but the third class carriages were the best filled chiefly with insignificant persons of various occupations and degrees picked up at the different stations nearer town. all of them seemed weary and most of them had sleepy eyes and a shivering expression while their complexions generally appeared to have taken on the colour of the fog outside. when day dawned two passengers in one of the third class carriages found themselves opposite each other. both were young fellows both were rather poorly dressed both had remarkable faces and both were evidently anxious to start a conversation. if they had but known why at this particular moment they were both remarkable persons they would undoubtedly have wondered at the strange chance which had set them down opposite to one another in a third class carriage of the warsaw railway company. one of them was a young fellow of about twenty seven not tall with black curling hair and small grey fiery eyes. his nose was broad and flat and he had high cheek bones his thin lips were constantly compressed into an impudent ironical it might almost be called a malicious smile but his forehead was high and well formed and atoned for a good deal of the ugliness of the lower part of his face. a special feature of this physiognomy was its death like pallor which gave to the whole man an indescribably emaciated appearance in spite of his hard look and at the same time a sort of passionate and suffering expression which did not harmonize with his impudent sarcastic smile and keen self satisfied bearing. he wore a large fur or rather astrachan overcoat which had kept him warm all night while his neighbour had been obliged to bear the full severity of a russian november night entirely unprepared. his wide sleeveless mantle with a large cape to it the sort of cloak one sees upon travellers during the winter months in switzerland or north italy was by no means adapted to the long cold journey through russia from eydkuhnen to st. petersburg. the wearer of this cloak was a young fellow also of about twenty six or twenty seven years of age slightly above the middle height very fair with a thin pointed and very light coloured beard his eyes were large and blue and had an intent look about them yet that heavy expression which some people affirm to be a peculiarity as well as evidence of an epileptic subject. his face was decidedly a pleasant one for all that refined but quite colourless except for the circumstance that at this moment it was blue with cold. he held a bundle made up of an old faded silk handkerchief that apparently contained all his travelling wardrobe and wore thick shoes and gaiters his whole appearance being very un russian. his black haired neighbour inspected these peculiarities having nothing better to do and at length remarked with that rude enjoyment of the discomforts of others which the common classes so often show cold very said his neighbour readily and this is a thaw too. fancy if it had been a hard frost i never thought it would be so cold in the old country. i ve grown quite out of the way of it. what been abroad i suppose yes straight from switzerland. wheugh my goodness the black haired young fellow whistled and then laughed. the conversation proceeded. the readiness of the fair haired young man in the cloak to answer all his opposite neighbour s questions was surprising. he seemed to have no suspicion of any impertinence or inappropriateness in the fact of such questions being put to him. replying to them he made known to the inquirer that he certainly had been long absent from russia more than four years that he had been sent abroad for his health that he had suffered from some strange nervous malady a kind of epilepsy with convulsive spasms. his interlocutor burst out laughing several times at his answers and more than ever when to the question whether he had been cured the patient replied no they did not cure me. hey that s it you stumped up your money for nothing and we believe in those fellows here remarked the black haired individual sarcastically. gospel truth sir gospel truth exclaimed another passenger a shabbily dressed man of about forty who looked like a clerk and possessed a red nose and a very blotchy face. gospel truth all they do is to get hold of our good russian money free gratis and for nothing. oh but you re quite wrong in my particular instance said the swiss patient quietly. of course i can t argue the matter because i know only my own case but my doctor gave me money and he had very little to pay my journey back besides having kept me at his own expense while there for nearly two years. why was there no one else to pay for you asked the black haired one. no mr. pavlicheff who had been supporting me there died a couple of years ago. i wrote to mrs. general epanchin at the time she is a distant relative of mine but she did not answer my letter. and so eventually i came back. and where have you come to that is where am i going to stay i i really don t quite know yet i both the listeners laughed again. i suppose your whole set up is in that bundle then asked the first. i bet anything it is exclaimed the red nosed passenger with extreme satisfaction and that he has precious little in the luggage van though of course poverty is no crime we must remember that it appeared that it was indeed as they had surmised. the young fellow hastened to admit the fact with wonderful readiness. your bundle has some importance however continued the clerk when they had laughed their fill it was observable that the subject of their mirth joined in the laughter when he saw them laughing for though i dare say it is not stuffed full of friedrichs d or and louis d or judge from your costume and gaiters still if you can add to your possessions such a valuable property as a relation like mrs. general epanchin then your bundle becomes a significant object at once. that is of course if you really are a relative of mrs. epanchin s and have not made a little error through well absence of mind which is very common to human beings or say through a too luxuriant fancy oh you are right again said the fair haired traveller for i really am almost wrong when i say she and i are related. she is hardly a relation at all so little in fact that i was not in the least surprised to have no answer to my letter. i expected as much. h m you spent your postage for nothing then. h m you are candid however and that is commendable. h m mrs. epanchin oh yes a most eminent person. i know her. as for mr. pavlicheff who supported you in switzerland i know him too at least if it was nicolai andreevitch of that name a fine fellow he was and had a property of four thousand souls in his day. yes nicolai andreevitch that was his name and the young fellow looked earnestly and with curiosity at the all knowing gentleman with the red nose. this sort of character is met with pretty frequently in a certain class. they are people who know everyone that is they know where a man is employed what his salary is whom he knows whom he married what money his wife had who are his cousins and second cousins etc. etc. these men generally have about a hundred pounds a year to live on and they spend their whole time and talents in the amassing of this style of knowledge which they reduce or raise to the standard of a science. during the latter part of the conversation the black haired young man had become very impatient. he stared out of the window and fidgeted and evidently longed for the end of the journey. he was very absent he would appear to listen and heard nothing and he would laugh of a sudden evidently with no idea of what he was laughing about. excuse me said the red nosed man to the young fellow with the bundle rather suddenly whom have i the honour to be talking to prince lef nicolaievitch muishkin replied the latter with perfect readiness. prince muishkin lef nicolaievitch h m i don t know i m sure i may say i have never heard of such a person said the clerk thoughtfully. at least the name i admit is historical. karamsin must mention the family name of course in his history but as an individual one never hears of any prince muishkin nowadays. of course not replied the prince there are none except myself. i believe i am the last and only one. as to my forefathers they have always been a poor lot my own father was a sublieutenant in the army. i don t know how mrs. epanchin comes into the muishkin family but she is descended from the princess muishkin and she too is the last of her line. and did you learn science and all that with your professor over there asked the black haired passenger. oh yes i did learn a little but i ve never learned anything whatever said the other. oh but i learned very little you know added the prince as though excusing himself. they could not teach me very much on account of my illness. do you know the rogojins asked his questioner abruptly. no i don t not at all i hardly know anyone in russia. why is that your name yes i am rogojin parfen rogojin. parfen rogojin dear me then don t you belong to those very rogojins perhaps began the clerk with a very perceptible increase of civility in his tone. yes those very ones interrupted rogojin impatiently and with scant courtesy. i may remark that he had not once taken any notice of the blotchy faced passenger and had hitherto addressed all his remarks direct to the prince. dear me is it possible observed the clerk while his face assumed an expression of great deference and servility if not of absolute alarm what a son of that very semen rogojin hereditary honourable citizen who died a month or so ago and left two million and a half of roubles and how do you know that he left two million and a half of roubles asked rogojin disdainfully and not deigning so much as to look at the other. however it s true enough that my father died a month ago and that here am i returning from pskoff a month after with hardly a boot to my foot. they ve treated me like a dog i ve been ill of fever at pskoff the whole time and not a line nor farthing of money have i received from my mother or my confounded brother and now you ll have a million roubles at least goodness gracious me exclaimed the clerk rubbing his hands. five weeks since i was just like yourself continued rogojin addressing the prince with nothing but a bundle and the clothes i wore. i ran away from my father and came to pskoff to my aunt s house where i caved in at once with fever and he went and died while i was away. all honour to my respected father s memory but he uncommonly nearly killed me all the same. give you my word prince if i hadn t cut and run then when i did he d have murdered me like a dog. i suppose you angered him somehow asked the prince looking at the millionaire with considerable curiosity. but though there may have been something remarkable in the fact that this man was heir to millions of roubles there was something about him which surprised and interested the prince more than that. rogojin too seemed to have taken up the conversation with unusual alacrity it appeared that he was still in a considerable state of excitement if not absolutely feverish and was in real need of someone to talk to for the mere sake of talking as safety valve to his agitation. as for his red nosed neighbour the latter since the information as to the identity of rogojin hung over him seemed to be living on the honey of his words and in the breath of his nostrils catching at every syllable as though it were a pearl of great price. oh yes i angered him i certainly did anger him replied rogojin. but what puts me out so is my brother. of course my mother couldn t do anything she s too old and whatever brother senka says is law for her but why couldn t he let me know he sent a telegram they say. what s the good of a telegram it frightened my aunt so that she sent it back to the office unopened and there it s been ever since it s only thanks to konief that i heard at all he wrote me all about it. he says my brother cut off the gold tassels from my father s coffin at night because they re worth a lot of money says he. why i can get him sent off to siberia for that alone if i like it s sacrilege. here you scarecrow he added addressing the clerk at his side is it sacrilege or not by law sacrilege certainly certainly sacrilege said the latter. and it s siberia for sacrilege isn t it undoubtedly so siberia of course they will think that i m still ill continued rogojin to the prince but i sloped off quietly seedy as i was took the train and came away. aha brother senka you ll have to open your gates and let me in my boy i know he told tales about me to my father i know that well enough but i certainly did rile my father about nastasia philipovna that s very sure and that was my own doing. nastasia philipovna said the clerk as though trying to think out something. come you know nothing about her said rogojin impatiently. and supposing i do know something observed the other triumphantly. bosh there are plenty of nastasia philipovnas. and what an impertinent beast you are he added angrily. i thought some creature like you would hang on to me as soon as i got hold of my money. oh but i do know as it happens said the clerk in an aggravating manner. lebedeff knows all about her. you are pleased to reproach me your excellency but what if i prove that i am right after all nastasia phillpovna s family name is barashkoff i know you see and she is a very well known lady indeed and comes of a good family too. she is connected with one totski afanasy ivanovitch a man of considerable property a director of companies and so on and a great friend of general epanchin who is interested in the same matters as he is. my eyes said rogojin really surprised at last. the devil take the fellow how does he know that why he knows everything lebedeff knows everything i was a month or two with lihachof after his father died your excellency and while he was knocking about he s in the debtor s prison now i was with him and he couldn t do a thing without lebedeff and i got to know nastasia philipovna and several people at that time. nastasia philipovna why you don t mean to say that she and lihachof cried rogojin turning quite pale. no no no no no nothing of the sort i assure you said lebedeff hastily. oh dear no not for the world totski s the only man with any chance there. oh no he takes her to his box at the opera at the french theatre of an evening and the officers and people all look at her and say by jove there s the famous nastasia philipovna but no one ever gets any further than that for there is nothing more to say. yes it s quite true said rogojin frowning gloomily so zaleshoff told me. i was walking about the nefsky one fine day prince in my father s old coat when she suddenly came out of a shop and stepped into her carriage. i swear i was all of a blaze at once. then i met zaleshoff looking like a hair dresser s assistant got up as fine as i don t know who while i looked like a tinker. don t flatter yourself my boy said he she s not for such as you she s a princess she is and her name is nastasia philipovna barashkoff and she lives with totski who wishes to get rid of her because he s growing rather old fifty five or so and wants to marry a certain beauty the loveliest woman in all petersburg. and then he told me that i could see nastasia philipovna at the opera house that evening if i liked and described which was her box. well i d like to see my father allowing any of us to go to the theatre he d sooner have killed us any day. however i went for an hour or so and saw nastasia philipovna and i never slept a wink all night after. next morning my father happened to give me two government loan bonds to sell worth nearly five thousand roubles each. sell them said he and then take seven thousand five hundred roubles to the office give them to the cashier and bring me back the rest of the ten thousand without looking in anywhere on the way look sharp i shall be waiting for you. well i sold the bonds but i didn t take the seven thousand roubles to the office i went straight to the english shop and chose a pair of earrings with a diamond the size of a nut in each. they cost four hundred roubles more than i had so i gave my name and they trusted me. with the earrings i went at once to zaleshoff s. come on i said come on to nastasia philipovna s and off we went without more ado. i tell you i hadn t a notion of what was about me or before me or below my feet all the way i saw nothing whatever. we went straight into her drawing room and then she came out to us. i didn t say right out who i was but zaleshoff said from parfen rogojin in memory of his first meeting with you yesterday be so kind as to accept these she opened the parcel looked at the earrings and laughed. thank your friend mr. rogojin for his kind attention says she and bowed and went off. why didn t i die there on the spot the worst of it all was though that the beast zaleshoff got all the credit of it i was short and abominably dressed and stood and stared in her face and never said a word because i was shy like an ass and there was he all in the fashion pomaded and dressed out with a smart tie on bowing and scraping and i bet anything she took him for me all the while look here now i said when we came out none of your interference here after this do you understand he laughed and how are you going to settle up with your father says he. i thought i might as well jump into the neva at once without going home first but it struck me that i wouldn t after all and i went home feeling like one of the damned. my goodness shivered the clerk. and his father he added for the prince s instruction and his father would have given a man a ticket to the other world for ten roubles any day not to speak of ten thousand the prince observed rogojin with great curiosity he seemed paler than ever at this moment. what do you know about it cried the latter. well my father learned the whole story at once and zaleshoff blabbed it all over the town besides. so he took me upstairs and locked me up and swore at me for an hour. this is only a foretaste says he wait a bit till night comes and i ll come back and talk to you again. well what do you think the old fellow went straight off to nastasia philipovna touched the floor with his forehead and began blubbering and beseeching her on his knees to give him back the diamonds. so after awhile she brought the box and flew out at him. there she says take your earrings you wretched old miser although they are ten times dearer than their value to me now that i know what it must have cost parfen to get them give parfen my compliments she says and thank him very much well i meanwhile had borrowed twenty five roubles from a friend and off i went to pskoff to my aunt s. the old woman there lectured me so that i left the house and went on a drinking tour round the public houses of the place. i was in a high fever when i got to pskoff and by nightfall i was lying delirious in the streets somewhere or other oho we ll make nastasia philipovna sing another song now giggled lebedeff rubbing his hands with glee. hey my boy we ll get her some proper earrings now we ll get her such earrings that look here cried rogojin seizing him fiercely by the arm look here if you so much as name nastasia philipovna again i ll tan your hide as sure as you sit there aha do by all means if you tan my hide you won t turn me away from your society. you ll bind me to you with your lash for ever. ha ha here we are at the station though. sure enough the train was just steaming in as he spoke. though rogojin had declared that he left pskoff secretly a large collection of friends had assembled to greet him and did so with profuse waving of hats and shouting. why there s zaleshoff here too he muttered gazing at the scene with a sort of triumphant but unpleasant smile. then he suddenly turned to the prince prince i don t know why i have taken a fancy to you perhaps because i met you just when i did. but no it can t be that for i met this fellow nodding at lebedeff too and i have not taken a fancy to him by any means. come to see me prince we ll take off those gaiters of yours and dress you up in a smart fur coat the best we can buy. you shall have a dress coat best quality white waistcoat anything you like and your pocket shall be full of money. come and you shall go with me to nastasia philipovna s. now then will you come or no accept accept prince lef nicolaievitch said lebedef solemnly don t let it slip accept quick prince muishkin rose and stretched out his hand courteously while he replied with some cordiality i will come with the greatest pleasure and thank you very much for taking a fancy to me. i dare say i may even come today if i have time for i tell you frankly that i like you very much too. i liked you especially when you told us about the diamond earrings but i liked you before that as well though you have such a dark clouded sort of face. thanks very much for the offer of clothes and a fur coat i certainly shall require both clothes and coat very soon. as for money i have hardly a copeck about me at this moment. you shall have lots of money by the evening i shall have plenty so come along that s true enough he ll have lots before evening put in lebedeff. but look here are you a great hand with the ladies let s know that first asked rogojin. oh no oh no said the prince i couldn t you know my illness i hardly ever saw a soul. h m well here you fellow you can come along with me now if you like cried rogojin to lebedeff and so they all left the carriage. lebedeff had his desire. he went off with the noisy group of rogojin s friends towards the voznesensky while the prince s route lay towards the litaynaya. it was damp and wet. the prince asked his way of passers by and finding that he was a couple of miles or so from his destination he determined to take a droshky. \n"
     ]
    }
   ],
   "source": [
    "def preprocess(sentence): \n",
    "    return re.sub('[^A-Za-z0-9.]+' , ' ', sentence).lower()\n",
    "\n",
    "book = get_book(the_idiot_url)\n",
    "processed_book = preprocess(book)\n",
    "print(processed_book)"
   ]
  },
  {
   "cell_type": "code",
   "execution_count": 49,
   "metadata": {},
   "outputs": [
    {
     "name": "stdout",
     "output_type": "stream",
     "text": [
      "\r\n",
      "\r\n",
      "\r\n",
      "\r\n",
      "\r\n",
      "Produced by Martin Adamson, David Widger, with corrections by Andrew Sly\r\n",
      "\r\n",
      "\r\n",
      "\r\n",
      "\r\n",
      "\r\n",
      "\r\n",
      "\r\n",
      "\r\n",
      "\r\n",
      "\r\n",
      "THE IDIOT\r\n",
      "\r\n",
      "By Fyodor Dostoyevsky\r\n",
      "\r\n",
      "\r\n",
      "Translated by Eva Martin\r\n",
      "\r\n",
      "\r\n",
      "\r\n",
      "\r\n",
      "PART I\r\n",
      "\r\n",
      "I.\r\n",
      "\r\n",
      "Towards the end of November, during a thaw, at nine o’clock one morning,\r\n",
      "a train on the Warsaw and Petersburg railway was approaching the latter\r\n",
      "city at full speed. The morning was so damp and misty that it was only\r\n",
      "with great difficulty that the day succeeded in breaking; and it was\r\n",
      "impossible to distinguish anything more than a few yards away from the\r\n",
      "carriage windows.\r\n",
      "\r\n",
      "Some of the passengers by this particular train were returning from\r\n",
      "abroad; but the third-class carriages were the best filled, chiefly with\r\n",
      "insignificant persons of various occupations and degrees, picked up at\r\n",
      "the different stations nearer town. All of them seemed weary, and\r\n",
      "most of them had sleepy eyes and a shivering expression, while their\r\n",
      "complexions generally appeared to have taken on the colour of the fog\r\n",
      "outside.\r\n",
      "\r\n",
      "When day dawned, two passengers in one of the third-class carriages\r\n",
      "found themselves opposite each other. Both were young fellows, both\r\n",
      "were rather poorly dressed, both had remarkable faces, and both were\r\n",
      "evidently anxious to start a conversation. If they had but known why,\r\n",
      "at this particular moment, they were both remarkable persons, they would\r\n",
      "undoubtedly have wondered at the strange chance which had set them down\r\n",
      "opposite to one another in a third-class carriage of the Warsaw Railway\r\n",
      "Company.\r\n",
      "\r\n",
      "One of them was a young fellow of about twenty-seven, not tall, with\r\n",
      "black curling hair, and small, grey, fiery eyes. His nose was broad\r\n",
      "and flat, and he had high cheek bones; his thin lips were constantly\r\n",
      "compressed into an impudent, ironical--it might almost be called a\r\n",
      "malicious--smile; but his forehead was high and well formed, and atoned\r\n",
      "for a good deal of the ugliness of the lower part of his face. A special\r\n",
      "feature of this physiognomy was its death-like pallor, which gave to\r\n",
      "the whole man an indescribably emaciated appearance in spite of his hard\r\n",
      "look, and at the same time a sort of passionate and suffering expression\r\n",
      "which did not harmonize with his impudent, sarcastic smile and\r\n",
      "keen, self-satisfied bearing. He wore a large fur--or rather\r\n",
      "astrachan--overcoat, which had kept him warm all night, while his\r\n",
      "neighbour had been obliged to bear the full severity of a Russian\r\n",
      "November night entirely unprepared. His wide sleeveless mantle with a\r\n",
      "large cape to it--the sort of cloak one sees upon travellers during the\r\n",
      "winter months in Switzerland or North Italy--was by no means adapted to\r\n",
      "the long cold journey through Russia, from Eydkuhnen to St. Petersburg.\r\n",
      "\r\n",
      "The wearer of this cloak was a young fellow, also of about twenty-six or\r\n",
      "twenty-seven years of age, slightly above the middle height, very fair,\r\n",
      "with a thin, pointed and very light coloured beard; his eyes were large\r\n",
      "and blue, and had an intent look about them, yet that heavy expression\r\n",
      "which some people affirm to be a peculiarity as well as evidence, of an\r\n",
      "epileptic subject. His face was decidedly a pleasant one for all that;\r\n",
      "refined, but quite colourless, except for the circumstance that at this\r\n",
      "moment it was blue with cold. He held a bundle made up of an old faded\r\n",
      "silk handkerchief that apparently contained all his travelling wardrobe,\r\n",
      "and wore thick shoes and gaiters, his whole appearance being very\r\n",
      "un-Russian.\r\n",
      "\r\n",
      "His black-haired neighbour inspected these peculiarities, having nothing\r\n",
      "better to do, and at length remarked, with that rude enjoyment of the\r\n",
      "discomforts of others which the common classes so often show:\r\n",
      "\r\n",
      "“Cold?”\r\n",
      "\r\n",
      "“Very,” said his neighbour, readily, “and this is a thaw, too. Fancy if\r\n",
      "it had been a hard frost! I never thought it would be so cold in the old\r\n",
      "country. I’ve grown quite out of the way of it.”\r\n",
      "\r\n",
      "“What, been abroad, I suppose?”\r\n",
      "\r\n",
      "“Yes, straight from Switzerland.”\r\n",
      "\r\n",
      "“Wheugh! my goodness!” The black-haired young fellow whistled, and then\r\n",
      "laughed.\r\n",
      "\r\n",
      "The conversation proceeded. The readiness of the fair-haired young\r\n",
      "man in the cloak to answer all his opposite neighbour’s questions\r\n",
      "was surprising. He seemed to have no suspicion of any impertinence\r\n",
      "or inappropriateness in the fact of such questions being put to him.\r\n",
      "Replying to them, he made known to the inquirer that he certainly had\r\n",
      "been long absent from Russia, more than four years; that he had been\r\n",
      "sent abroad for his health; that he had suffered from some strange\r\n",
      "nervous malady--a kind of epilepsy, with convulsive spasms. His\r\n",
      "interlocutor burst out laughing several times at his answers; and\r\n",
      "more than ever, when to the question, “whether he had been cured?” the\r\n",
      "patient replied:\r\n",
      "\r\n",
      "“No, they did not cure me.”\r\n",
      "\r\n",
      "“Hey! that’s it! You stumped up your money for nothing, and we\r\n",
      "believe in those fellows, here!” remarked the black-haired individual,\r\n",
      "sarcastically.\r\n",
      "\r\n",
      "“Gospel truth, sir, Gospel truth!” exclaimed another passenger, a\r\n",
      "shabbily dressed man of about forty, who looked like a clerk, and\r\n",
      "possessed a red nose and a very blotchy face. “Gospel truth! All they do\r\n",
      "is to get hold of our good Russian money free, gratis, and for nothing.”\r\n",
      "\r\n",
      "“Oh, but you’re quite wrong in my particular instance,” said the Swiss\r\n",
      "patient, quietly. “Of course I can’t argue the matter, because I\r\n",
      "know only my own case; but my doctor gave me money--and he had very\r\n",
      "little--to pay my journey back, besides having kept me at his own\r\n",
      "expense, while there, for nearly two years.”\r\n",
      "\r\n",
      "“Why? Was there no one else to pay for you?” asked the black-haired one.\r\n",
      "\r\n",
      "“No--Mr. Pavlicheff, who had been supporting me there, died a couple\r\n",
      "of years ago. I wrote to Mrs. General Epanchin at the time (she is a\r\n",
      "distant relative of mine), but she did not answer my letter. And so\r\n",
      "eventually I came back.”\r\n",
      "\r\n",
      "“And where have you come to?”\r\n",
      "\r\n",
      "“That is--where am I going to stay? I--I really don’t quite know yet,\r\n",
      "I--”\r\n",
      "\r\n",
      "Both the listeners laughed again.\r\n",
      "\r\n",
      "“I suppose your whole set-up is in that bundle, then?” asked the first.\r\n",
      "\r\n",
      "“I bet anything it is!” exclaimed the red-nosed passenger, with\r\n",
      "extreme satisfaction, “and that he has precious little in the luggage\r\n",
      "van!--though of course poverty is no crime--we must remember that!”\r\n",
      "\r\n",
      "It appeared that it was indeed as they had surmised. The young fellow\r\n",
      "hastened to admit the fact with wonderful readiness.\r\n",
      "\r\n",
      "“Your bundle has some importance, however,” continued the clerk, when\r\n",
      "they had laughed their fill (it was observable that the subject of their\r\n",
      "mirth joined in the laughter when he saw them laughing); “for though I\r\n",
      "dare say it is not stuffed full of friedrichs d’or and louis d’or--judge\r\n",
      "from your costume and gaiters--still--if you can add to your possessions\r\n",
      "such a valuable property as a relation like Mrs. General Epanchin, then\r\n",
      "your bundle becomes a significant object at once. That is, of course, if\r\n",
      "you really are a relative of Mrs. Epanchin’s, and have not made a little\r\n",
      "error through--well, absence of mind, which is very common to human\r\n",
      "beings; or, say--through a too luxuriant fancy?”\r\n",
      "\r\n",
      "“Oh, you are right again,” said the fair-haired traveller, “for I\r\n",
      "really am _almost_ wrong when I say she and I are related. She is hardly\r\n",
      "a relation at all; so little, in fact, that I was not in the least\r\n",
      "surprised to have no answer to my letter. I expected as much.”\r\n",
      "\r\n",
      "“H’m! you spent your postage for nothing, then. H’m! you are candid,\r\n",
      "however--and that is commendable. H’m! Mrs. Epanchin--oh yes! a most\r\n",
      "eminent person. I know her. As for Mr. Pavlicheff, who supported you in\r\n",
      "Switzerland, I know him too--at least, if it was Nicolai Andreevitch\r\n",
      "of that name? A fine fellow he was--and had a property of four thousand\r\n",
      "souls in his day.”\r\n",
      "\r\n",
      "“Yes, Nicolai Andreevitch--that was his name,” and the young fellow\r\n",
      "looked earnestly and with curiosity at the all-knowing gentleman with\r\n",
      "the red nose.\r\n",
      "\r\n",
      "This sort of character is met with pretty frequently in a certain class.\r\n",
      "They are people who know everyone--that is, they know where a man is\r\n",
      "employed, what his salary is, whom he knows, whom he married, what money\r\n",
      "his wife had, who are his cousins, and second cousins, etc., etc. These\r\n",
      "men generally have about a hundred pounds a year to live on, and they\r\n",
      "spend their whole time and talents in the amassing of this style of\r\n",
      "knowledge, which they reduce--or raise--to the standard of a science.\r\n",
      "\r\n",
      "During the latter part of the conversation the black-haired young man\r\n",
      "had become very impatient. He stared out of the window, and fidgeted,\r\n",
      "and evidently longed for the end of the journey. He was very absent;\r\n",
      "he would appear to listen--and heard nothing; and he would laugh of a\r\n",
      "sudden, evidently with no idea of what he was laughing about.\r\n",
      "\r\n",
      "“Excuse me,” said the red-nosed man to the young fellow with the bundle,\r\n",
      "rather suddenly; “whom have I the honour to be talking to?”\r\n",
      "\r\n",
      "“Prince Lef Nicolaievitch Muishkin,” replied the latter, with perfect\r\n",
      "readiness.\r\n",
      "\r\n",
      "“Prince Muishkin? Lef Nicolaievitch? H’m! I don’t know, I’m sure! I may\r\n",
      "say I have never heard of such a person,” said the clerk, thoughtfully.\r\n",
      "“At least, the name, I admit, is historical. Karamsin must mention the\r\n",
      "family name, of course, in his history--but as an individual--one never\r\n",
      "hears of any Prince Muishkin nowadays.”\r\n",
      "\r\n",
      "“Of course not,” replied the prince; “there are none, except myself.\r\n",
      "I believe I am the last and only one. As to my forefathers, they have\r\n",
      "always been a poor lot; my own father was a sublieutenant in the army. I\r\n",
      "don’t know how Mrs. Epanchin comes into the Muishkin family, but she is\r\n",
      "descended from the Princess Muishkin, and she, too, is the last of her\r\n",
      "line.”\r\n",
      "\r\n",
      "“And did you learn science and all that, with your professor over\r\n",
      "there?” asked the black-haired passenger.\r\n",
      "\r\n",
      "“Oh yes--I did learn a little, but--”\r\n",
      "\r\n",
      "“I’ve never learned anything whatever,” said the other.\r\n",
      "\r\n",
      "“Oh, but I learned very little, you know!” added the prince, as though\r\n",
      "excusing himself. “They could not teach me very much on account of my\r\n",
      "illness.”\r\n",
      "\r\n",
      "“Do you know the Rogojins?” asked his questioner, abruptly.\r\n",
      "\r\n",
      "“No, I don’t--not at all! I hardly know anyone in Russia. Why, is that\r\n",
      "your name?”\r\n",
      "\r\n",
      "“Yes, I am Rogojin, Parfen Rogojin.”\r\n",
      "\r\n",
      "“Parfen Rogojin? dear me--then don’t you belong to those very Rogojins,\r\n",
      "perhaps--” began the clerk, with a very perceptible increase of civility\r\n",
      "in his tone.\r\n",
      "\r\n",
      "“Yes--those very ones,” interrupted Rogojin, impatiently, and with scant\r\n",
      "courtesy. I may remark that he had not once taken any notice of the\r\n",
      "blotchy-faced passenger, and had hitherto addressed all his remarks\r\n",
      "direct to the prince.\r\n",
      "\r\n",
      "“Dear me--is it possible?” observed the clerk, while his face assumed an\r\n",
      "expression of great deference and servility--if not of absolute\r\n",
      "alarm: “what, a son of that very Semen Rogojin--hereditary honourable\r\n",
      "citizen--who died a month or so ago and left two million and a half of\r\n",
      "roubles?”\r\n",
      "\r\n",
      "“And how do _you_ know that he left two million and a half of roubles?”\r\n",
      " asked Rogojin, disdainfully, and not deigning so much as to look at the\r\n",
      "other. “However, it’s true enough that my father died a month ago, and\r\n",
      "that here am I returning from Pskoff, a month after, with hardly a boot\r\n",
      "to my foot. They’ve treated me like a dog! I’ve been ill of fever at\r\n",
      "Pskoff the whole time, and not a line, nor farthing of money, have I\r\n",
      "received from my mother or my confounded brother!”\r\n",
      "\r\n",
      "“And now you’ll have a million roubles, at least--goodness gracious me!”\r\n",
      " exclaimed the clerk, rubbing his hands.\r\n",
      "\r\n",
      "“Five weeks since, I was just like yourself,” continued Rogojin,\r\n",
      "addressing the prince, “with nothing but a bundle and the clothes I\r\n",
      "wore. I ran away from my father and came to Pskoff to my aunt’s house,\r\n",
      "where I caved in at once with fever, and he went and died while I was\r\n",
      "away. All honour to my respected father’s memory--but he uncommonly\r\n",
      "nearly killed me, all the same. Give you my word, prince, if I hadn’t\r\n",
      "cut and run then, when I did, he’d have murdered me like a dog.”\r\n",
      "\r\n",
      "“I suppose you angered him somehow?” asked the prince, looking at the\r\n",
      "millionaire with considerable curiosity. But though there may have been\r\n",
      "something remarkable in the fact that this man was heir to millions of\r\n",
      "roubles there was something about him which surprised and interested\r\n",
      "the prince more than that. Rogojin, too, seemed to have taken up the\r\n",
      "conversation with unusual alacrity it appeared that he was still in a\r\n",
      "considerable state of excitement, if not absolutely feverish, and was\r\n",
      "in real need of someone to talk to for the mere sake of talking, as\r\n",
      "safety-valve to his agitation.\r\n",
      "\r\n",
      "As for his red-nosed neighbour, the latter--since the information as to\r\n",
      "the identity of Rogojin--hung over him, seemed to be living on the\r\n",
      "honey of his words and in the breath of his nostrils, catching at every\r\n",
      "syllable as though it were a pearl of great price.\r\n",
      "\r\n",
      "“Oh, yes; I angered him--I certainly did anger him,” replied Rogojin.\r\n",
      "“But what puts me out so is my brother. Of course my mother couldn’t do\r\n",
      "anything--she’s too old--and whatever brother Senka says is law for her!\r\n",
      "But why couldn’t he let me know? He sent a telegram, they say. What’s\r\n",
      "the good of a telegram? It frightened my aunt so that she sent it back\r\n",
      "to the office unopened, and there it’s been ever since! It’s only thanks\r\n",
      "to Konief that I heard at all; he wrote me all about it. He says my\r\n",
      "brother cut off the gold tassels from my father’s coffin, at night\r\n",
      "‘because they’re worth a lot of money!’ says he. Why, I can get him\r\n",
      "sent off to Siberia for that alone, if I like; it’s sacrilege. Here,\r\n",
      "you--scarecrow!” he added, addressing the clerk at his side, “is it\r\n",
      "sacrilege or not, by law?”\r\n",
      "\r\n",
      "“Sacrilege, certainly--certainly sacrilege,” said the latter.\r\n",
      "\r\n",
      "“And it’s Siberia for sacrilege, isn’t it?”\r\n",
      "\r\n",
      "“Undoubtedly so; Siberia, of course!”\r\n",
      "\r\n",
      "“They will think that I’m still ill,” continued Rogojin to the prince,\r\n",
      "“but I sloped off quietly, seedy as I was, took the train and came away.\r\n",
      "Aha, brother Senka, you’ll have to open your gates and let me in, my\r\n",
      "boy! I know he told tales about me to my father--I know that well enough\r\n",
      "but I certainly did rile my father about Nastasia Philipovna that’s very\r\n",
      "sure, and that was my own doing.”\r\n",
      "\r\n",
      "“Nastasia Philipovna?” said the clerk, as though trying to think out\r\n",
      "something.\r\n",
      "\r\n",
      "“Come, you know nothing about _her_,” said Rogojin, impatiently.\r\n",
      "\r\n",
      "“And supposing I do know something?” observed the other, triumphantly.\r\n",
      "\r\n",
      "“Bosh! there are plenty of Nastasia Philipovnas. And what an impertinent\r\n",
      "beast you are!” he added angrily. “I thought some creature like you\r\n",
      "would hang on to me as soon as I got hold of my money.”\r\n",
      "\r\n",
      "“Oh, but I do know, as it happens,” said the clerk in an aggravating\r\n",
      "manner. “Lebedeff knows all about her. You are pleased to reproach me,\r\n",
      "your excellency, but what if I prove that I am right after all? Nastasia\r\n",
      "Phillpovna’s family name is Barashkoff--I know, you see--and she is a\r\n",
      "very well known lady, indeed, and comes of a good family, too. She is\r\n",
      "connected with one Totski, Afanasy Ivanovitch, a man of considerable\r\n",
      "property, a director of companies, and so on, and a great friend of\r\n",
      "General Epanchin, who is interested in the same matters as he is.”\r\n",
      "\r\n",
      "“My eyes!” said Rogojin, really surprised at last. “The devil take the\r\n",
      "fellow, how does he know that?”\r\n",
      "\r\n",
      "“Why, he knows everything--Lebedeff knows everything! I was a month or\r\n",
      "two with Lihachof after his father died, your excellency, and while he\r\n",
      "was knocking about--he’s in the debtor’s prison now--I was with him,\r\n",
      "and he couldn’t do a thing without Lebedeff; and I got to know Nastasia\r\n",
      "Philipovna and several people at that time.”\r\n",
      "\r\n",
      "“Nastasia Philipovna? Why, you don’t mean to say that she and\r\n",
      "Lihachof--” cried Rogojin, turning quite pale.\r\n",
      "\r\n",
      "“No, no, no, no, no! Nothing of the sort, I assure you!” said Lebedeff,\r\n",
      "hastily. “Oh dear no, not for the world! Totski’s the only man with any\r\n",
      "chance there. Oh, no! He takes her to his box at the opera at the French\r\n",
      "theatre of an evening, and the officers and people all look at her and\r\n",
      "say, ‘By Jove, there’s the famous Nastasia Philipovna!’ but no one ever\r\n",
      "gets any further than that, for there is nothing more to say.”\r\n",
      "\r\n",
      "“Yes, it’s quite true,” said Rogojin, frowning gloomily; “so Zaleshoff\r\n",
      "told me. I was walking about the Nefsky one fine day, prince, in my\r\n",
      "father’s old coat, when she suddenly came out of a shop and stepped\r\n",
      "into her carriage. I swear I was all of a blaze at once. Then I met\r\n",
      "Zaleshoff--looking like a hair-dresser’s assistant, got up as fine as I\r\n",
      "don’t know who, while I looked like a tinker. ‘Don’t flatter yourself,\r\n",
      "my boy,’ said he; ‘she’s not for such as you; she’s a princess, she\r\n",
      "is, and her name is Nastasia Philipovna Barashkoff, and she lives\r\n",
      "with Totski, who wishes to get rid of her because he’s growing rather\r\n",
      "old--fifty-five or so--and wants to marry a certain beauty, the\r\n",
      "loveliest woman in all Petersburg.’ And then he told me that I could\r\n",
      "see Nastasia Philipovna at the opera-house that evening, if I liked, and\r\n",
      "described which was her box. Well, I’d like to see my father allowing\r\n",
      "any of us to go to the theatre; he’d sooner have killed us, any day.\r\n",
      "However, I went for an hour or so and saw Nastasia Philipovna, and I\r\n",
      "never slept a wink all night after. Next morning my father happened to\r\n",
      "give me two government loan bonds to sell, worth nearly five thousand\r\n",
      "roubles each. ‘Sell them,’ said he, ‘and then take seven thousand five\r\n",
      "hundred roubles to the office, give them to the cashier, and bring me\r\n",
      "back the rest of the ten thousand, without looking in anywhere on the\r\n",
      "way; look sharp, I shall be waiting for you.’ Well, I sold the bonds,\r\n",
      "but I didn’t take the seven thousand roubles to the office; I went\r\n",
      "straight to the English shop and chose a pair of earrings, with a\r\n",
      "diamond the size of a nut in each. They cost four hundred roubles more\r\n",
      "than I had, so I gave my name, and they trusted me. With the earrings\r\n",
      "I went at once to Zaleshoff’s. ‘Come on!’ I said, ‘come on to Nastasia\r\n",
      "Philipovna’s,’ and off we went without more ado. I tell you I hadn’t a\r\n",
      "notion of what was about me or before me or below my feet all the way;\r\n",
      "I saw nothing whatever. We went straight into her drawing-room, and then\r\n",
      "she came out to us.\r\n",
      "\r\n",
      "“I didn’t say right out who I was, but Zaleshoff said: ‘From Parfen\r\n",
      "Rogojin, in memory of his first meeting with you yesterday; be so kind\r\n",
      "as to accept these!’\r\n",
      "\r\n",
      "“She opened the parcel, looked at the earrings, and laughed.\r\n",
      "\r\n",
      "“‘Thank your friend Mr. Rogojin for his kind attention,’ says she, and\r\n",
      "bowed and went off. Why didn’t I die there on the spot? The worst of it\r\n",
      "all was, though, that the beast Zaleshoff got all the credit of it! I\r\n",
      "was short and abominably dressed, and stood and stared in her face and\r\n",
      "never said a word, because I was shy, like an ass! And there was he all\r\n",
      "in the fashion, pomaded and dressed out, with a smart tie on, bowing and\r\n",
      "scraping; and I bet anything she took him for me all the while!\r\n",
      "\r\n",
      "“‘Look here now,’ I said, when we came out, ‘none of your interference\r\n",
      "here after this--do you understand?’ He laughed: ‘And how are you going\r\n",
      "to settle up with your father?’ says he. I thought I might as well jump\r\n",
      "into the Neva at once without going home first; but it struck me that I\r\n",
      "wouldn’t, after all, and I went home feeling like one of the damned.”\r\n",
      "\r\n",
      "“My goodness!” shivered the clerk. “And his father,” he added, for the\r\n",
      "prince’s instruction, “and his father would have given a man a ticket to\r\n",
      "the other world for ten roubles any day--not to speak of ten thousand!”\r\n",
      "\r\n",
      "The prince observed Rogojin with great curiosity; he seemed paler than\r\n",
      "ever at this moment.\r\n",
      "\r\n",
      "“What do you know about it?” cried the latter. “Well, my father learned\r\n",
      "the whole story at once, and Zaleshoff blabbed it all over the town\r\n",
      "besides. So he took me upstairs and locked me up, and swore at me for an\r\n",
      "hour. ‘This is only a foretaste,’ says he; ‘wait a bit till night comes,\r\n",
      "and I’ll come back and talk to you again.’\r\n",
      "\r\n",
      "“Well, what do you think? The old fellow went straight off to Nastasia\r\n",
      "Philipovna, touched the floor with his forehead, and began blubbering\r\n",
      "and beseeching her on his knees to give him back the diamonds. So after\r\n",
      "awhile she brought the box and flew out at him. ‘There,’ she says,\r\n",
      "‘take your earrings, you wretched old miser; although they are ten times\r\n",
      "dearer than their value to me now that I know what it must have cost\r\n",
      "Parfen to get them! Give Parfen my compliments,’ she says, ‘and thank\r\n",
      "him very much!’ Well, I meanwhile had borrowed twenty-five roubles from\r\n",
      "a friend, and off I went to Pskoff to my aunt’s. The old woman there\r\n",
      "lectured me so that I left the house and went on a drinking tour round\r\n",
      "the public-houses of the place. I was in a high fever when I got to\r\n",
      "Pskoff, and by nightfall I was lying delirious in the streets somewhere\r\n",
      "or other!”\r\n",
      "\r\n",
      "“Oho! we’ll make Nastasia Philipovna sing another song now!” giggled\r\n",
      "Lebedeff, rubbing his hands with glee. “Hey, my boy, we’ll get her some\r\n",
      "proper earrings now! We’ll get her such earrings that--”\r\n",
      "\r\n",
      "“Look here,” cried Rogojin, seizing him fiercely by the arm, “look here,\r\n",
      "if you so much as name Nastasia Philipovna again, I’ll tan your hide as\r\n",
      "sure as you sit there!”\r\n",
      "\r\n",
      "“Aha! do--by all means! if you tan my hide you won’t turn me away from\r\n",
      "your society. You’ll bind me to you, with your lash, for ever. Ha, ha!\r\n",
      "here we are at the station, though.”\r\n",
      "\r\n",
      "Sure enough, the train was just steaming in as he spoke.\r\n",
      "\r\n",
      "Though Rogojin had declared that he left Pskoff secretly, a large\r\n",
      "collection of friends had assembled to greet him, and did so with\r\n",
      "profuse waving of hats and shouting.\r\n",
      "\r\n",
      "“Why, there’s Zaleshoff here, too!” he muttered, gazing at the scene\r\n",
      "with a sort of triumphant but unpleasant smile. Then he suddenly turned\r\n",
      "to the prince: “Prince, I don’t know why I have taken a fancy to you;\r\n",
      "perhaps because I met you just when I did. But no, it can’t be that, for\r\n",
      "I met this fellow” (nodding at Lebedeff) “too, and I have not taken a\r\n",
      "fancy to him by any means. Come to see me, prince; we’ll take off those\r\n",
      "gaiters of yours and dress you up in a smart fur coat, the best we\r\n",
      "can buy. You shall have a dress coat, best quality, white waistcoat,\r\n",
      "anything you like, and your pocket shall be full of money. Come, and\r\n",
      "you shall go with me to Nastasia Philipovna’s. Now then will you come or\r\n",
      "no?”\r\n",
      "\r\n",
      "“Accept, accept, Prince Lef Nicolaievitch” said Lebedef solemnly; “don’t\r\n",
      "let it slip! Accept, quick!”\r\n",
      "\r\n",
      "Prince Muishkin rose and stretched out his hand courteously, while he\r\n",
      "replied with some cordiality:\r\n",
      "\r\n",
      "“I will come with the greatest pleasure, and thank you very much for\r\n",
      "taking a fancy to me. I dare say I may even come today if I have time,\r\n",
      "for I tell you frankly that I like you very much too. I liked you\r\n",
      "especially when you told us about the diamond earrings; but I liked you\r\n",
      "before that as well, though you have such a dark-clouded sort of face.\r\n",
      "Thanks very much for the offer of clothes and a fur coat; I certainly\r\n",
      "shall require both clothes and coat very soon. As for money, I have\r\n",
      "hardly a copeck about me at this moment.”\r\n",
      "\r\n",
      "“You shall have lots of money; by the evening I shall have plenty; so\r\n",
      "come along!”\r\n",
      "\r\n",
      "“That’s true enough, he’ll have lots before evening!” put in Lebedeff.\r\n",
      "\r\n",
      "“But, look here, are you a great hand with the ladies? Let’s know that\r\n",
      "first?” asked Rogojin.\r\n",
      "\r\n",
      "“Oh no, oh no!” said the prince; “I couldn’t, you know--my illness--I\r\n",
      "hardly ever saw a soul.”\r\n",
      "\r\n",
      "“H’m! well--here, you fellow--you can come along with me now if you\r\n",
      "like!” cried Rogojin to Lebedeff, and so they all left the carriage.\r\n",
      "\r\n",
      "Lebedeff had his desire. He went off with the noisy group of Rogojin’s\r\n",
      "friends towards the Voznesensky, while the prince’s route lay towards\r\n",
      "the Litaynaya. It was damp and wet. The prince asked his way of\r\n",
      "passers-by, and finding that he was a couple of miles or so from his\r\n",
      "destination, he determined to take a droshky.\r\n",
      "\r\n",
      "\n"
     ]
    }
   ],
   "source": [
    "print(book)"
   ]
  },
  {
   "cell_type": "code",
   "execution_count": 50,
   "metadata": {},
   "outputs": [
    {
     "data": {
      "text/plain": [
       "302"
      ]
     },
     "execution_count": 50,
     "metadata": {},
     "output_type": "execute_result"
    }
   ],
   "source": [
    "# Find the number of the pronoun \"the\" in the corpus. Hint: use the len() function. \n",
    "len(re.findall(r'the',processed_book))"
   ]
  },
  {
   "cell_type": "code",
   "execution_count": 54,
   "metadata": {},
   "outputs": [
    {
     "name": "stdout",
     "output_type": "stream",
     "text": [
      " produced by martin adamson david widger with corrections by andrew sly the idiot by fyodor dostoyevsky translated by eva martin partIi. towards the end of november during a thaw at nine o clock one morning a train on the warsaw and petersburg railway was approaching the latter city at full speed. the morning was so damp and misty that it was only with great difficulty that the day succeeded in breaking and it was impossible to distinguish anything more than a few yards away from the carriage windows. some of the passengers by this particular train were returning from abroad but the third class carriages were the best filled chiefly with insignificant persons of various occupations and degrees picked up at the different stations nearer town. all of them seemed weary and most of them had sleepy eyes and a shivering expression while their complexions generally appeared to have taken on the colour of the fog outside. when day dawned two passengers in one of the third class carriages found themselves opposite each other. both were young fellows both were rather poorly dressed both had remarkable faces and both were evidently anxious to start a conversation. if they had but known why at this particular moment they were both remarkable persons they would undoubtedly have wondered at the strange chance which had set them down opposite to one another in a third class carriage of the warsaw railway company. one of them was a young fellow of about twenty seven not tall with black curling hair and small grey fiery eyes. his nose was broad and flat and he had high cheek bones his thin lips were constantly compressed into an impudent ironical it might almost be called a malicious smile but his forehead was high and well formed and atoned for a good deal of the ugliness of the lower part of his face. a special feature of this physiognomy was its death like pallor which gave to the whole man an indescribably emaciated appearance in spite of his hard look and at the same time a sort of passionate and suffering expression which did not harmonize with his impudent sarcastic smile and keen self satisfied bearing. he wore a large fur or rather astrachan overcoat which had kept him warm all night while his neighbour had been obliged to bear the full severity of a russian november night entirely unprepared. his wide sleeveless mantle with a large cape to it the sort of cloak one sees upon travellers during the winter months in switzerland or north italy was by no means adapted to the long cold journey through russia from eydkuhnen to st. petersburg. the wearer of this cloak was a young fellow also of about twenty six or twenty seven years of age slightly above the middle height very fair with a thin pointed and very light coloured beard his eyes were large and blue and had an intent look about them yet that heavy expression which some people affirm to be a peculiarity as well as evidence of an epileptic subject. his face was decidedly a pleasant one for all that refined but quite colourless except for the circumstance that at this moment it was blue with cold. he held a bundle made up of an old faded silk handkerchief that apparently contained all his travelling wardrobe and wore thick shoes and gaiters his whole appearance being very un russian. his black haired neighbour inspected these peculiarities having nothing better to do and at length remarked with that rude enjoyment of the discomforts of others which the common classes so often show cold very said his neighbour readily and this is a thaw too. fancy if it had been a hard frostInever thought it would be so cold in the old country.Ive grown quite out of the way of it. what been abroadIsuppose yes straight from switzerland. wheugh my goodness the black haired young fellow whistled and then laughed. the conversation proceeded. the readiness of the fair haired young man in the cloak to answer all his opposite neighbour s questions was surprising. he seemed to have no suspicion of any impertinence or inappropriateness in the fact of such questions being put to him. replying to them he made known to the inquirer that he certainly had been long absent from russia more than four years that he had been sent abroad for his health that he had suffered from some strange nervous malady a kind of epilepsy with convulsive spasms. his interlocutor burst out laughing several times at his answers and more than ever when to the question whether he had been cured the patient replied no they did not cure me. hey that s it you stumped up your money for nothing and we believe in those fellows here remarked the black haired individual sarcastically. gospel truth sir gospel truth exclaimed another passenger a shabbily dressed man of about forty who looked like a clerk and possessed a red nose and a very blotchy face. gospel truth all they do is to get hold of our good russian money free gratis and for nothing. oh but you re quite wrong in my particular instance said the swiss patient quietly. of courseIcanTargue the matter becauseIknow only my own case but my doctor gave me money and he had very little to pay my journey back besides having kept me at his own expense while there for nearly two years. why was there no one else to pay for you asked the black haired one. no mr. pavlicheff who had been supporting me there died a couple of years ago.Iwrote to mrs. general epanchin at the time she is a distant relative of mine but she did not answer my letter. and so eventuallyIcame back. and where have you come to that is where amIgoing to stayIi really donTquite know yetIboth the listeners laughed again.Isuppose your whole set up is in that bundle then asked the first.Ibet anything it is exclaimed the red nosed passenger with extreme satisfaction and that he has precious little in the luggage van though of course poverty is no crime we must remember that it appeared that it was indeed as they had surmised. the young fellow hastened to admit the fact with wonderful readiness. your bundle has some importance however continued the clerk when they had laughed their fill it was observable that the subject of their mirth joined in the laughter when he saw them laughing for thoughIdare say it is not stuffed full of friedrichs d or and louis d or judge from your costume and gaiters still if you can add to your possessions such a valuable property as a relation like mrs. general epanchin then your bundle becomes a significant object at once. that is of course if you really are a relative of mrs. epanchin s and have not made a little error through well absence of mind which is very common to human beings or say through a too luxuriant fancy oh you are right again said the fair haired traveller forIreally am almost wrong whenIsay she andIare related. she is hardly a relation at all so little in fact thatIwas not in the least surprised to have no answer to my letter.Iexpected as much. h m you spent your postage for nothing then. h m you are candid however and that is commendable. h m mrs. epanchin oh yes a most eminent person.Iknow her. as for mr. pavlicheff who supported you in switzerlandIknow him too at least if it was nicolai andreevitch of that name a fine fellow he was and had a property of four thousand souls in his day. yes nicolai andreevitch that was his name and the young fellow looked earnestly and with curiosity at the all knowing gentleman with the red nose. this sort of character is met with pretty frequently in a certain class. they are people who know everyone that is they know where a man is employed what his salary is whom he knows whom he married what money his wife had who are his cousins and second cousins etc. etc. these men generally have about a hundred pounds a year to live on and they spend their whole time and talents in the amassing of this style of knowledge which they reduce or raise to the standard of a science. during the latter part of the conversation the black haired young man had become very impatient. he stared out of the window and fidgeted and evidently longed for the end of the journey. he was very absent he would appear to listen and heard nothing and he would laugh of a sudden evidently with no idea of what he was laughing about. excuse me said the red nosed man to the young fellow with the bundle rather suddenly whom haveIthe honour to be talking to prince lef nicolaievitch muishkin replied the latter with perfect readiness. prince muishkin lef nicolaievitch h mIdonTknowIm sureImay sayIhave never heard of such a person said the clerk thoughtfully. at least the nameIadmit is historical. karamsin must mention the family name of course in his history but as an individual one never hears of any prince muishkin nowadays. of course not replied the prince there are none except myself.IbelieveIam the last and only one. as to my forefathers they have always been a poor lot my own father was a sublieutenant in the army.IdonTknow how mrs. epanchin comes into the muishkin family but she is descended from the princess muishkin and she too is the last of her line. and did you learn science and all that with your professor over there asked the black haired passenger. oh yesIdid learn a little butIve never learned anything whatever said the other. oh butIlearned very little you know added the prince as though excusing himself. they could not teach me very much on account of my illness. do you know the rogojins asked his questioner abruptly. noIdonTnot at allIhardly know anyone in russia. why is that your name yesIam rogojin parfen rogojin. parfen rogojin dear me then donTyou belong to those very rogojins perhaps began the clerk with a very perceptible increase of civility in his tone. yes those very ones interrupted rogojin impatiently and with scant courtesy.Imay remark that he had not once taken any notice of the blotchy faced passenger and had hitherto addressed all his remarks direct to the prince. dear me is it possible observed the clerk while his face assumed an expression of great deference and servility if not of absolute alarm what a son of that very semen rogojin hereditary honourable citizen who died a month or so ago and left two million and a half of roubles and how do you know that he left two million and a half of roubles asked rogojin disdainfully and not deigning so much as to look at the other. however it s true enough that my father died a month ago and that here amIreturning from pskoff a month after with hardly a boot to my foot. they ve treated me like a dogIve been ill of fever at pskoff the whole time and not a line nor farthing of money haveIreceived from my mother or my confounded brother and now you ll have a million roubles at least goodness gracious me exclaimed the clerk rubbing his hands. five weeks sinceIwas just like yourself continued rogojin addressing the prince with nothing but a bundle and the clothesIwore.Iran away from my father and came to pskoff to my aunt s house whereIcaved in at once with fever and he went and died whileIwas away. all honour to my respected father s memory but he uncommonly nearly killed me all the same. give you my word prince ifIhadnTcut and run then whenIdid he d have murdered me like a dog.Isuppose you angered him somehow asked the prince looking at the millionaire with considerable curiosity. but though there may have been something remarkable in the fact that this man was heir to millions of roubles there was something about him which surprised and interested the prince more than that. rogojin too seemed to have taken up the conversation with unusual alacrity it appeared that he was still in a considerable state of excitement if not absolutely feverish and was in real need of someone to talk to for the mere sake of talking as safety valve to his agitation. as for his red nosed neighbour the latter since the information as to the identity of rogojin hung over him seemed to be living on the honey of his words and in the breath of his nostrils catching at every syllable as though it were a pearl of great price. oh yesIangered himIcertainly did anger him replied rogojin. but what puts me out so is my brother. of course my mother couldnTdo anything she s too old and whatever brother senka says is law for her but why couldnThe let me know he sent a telegram they say. what s the good of a telegram it frightened my aunt so that she sent it back to the office unopened and there it s been ever since it s only thanks to konief thatIheard at all he wrote me all about it. he says my brother cut off the gold tassels from my father s coffin at night because they re worth a lot of money says he. whyIcan get him sent off to siberia for that alone ifIlike it s sacrilege. here you scarecrow he added addressing the clerk at his side is it sacrilege or not by law sacrilege certainly certainly sacrilege said the latter. and it s siberia for sacrilege isnTit undoubtedly so siberia of course they will think thatIm still ill continued rogojin to the prince butIsloped off quietly seedy asIwas took the train and came away. aha brother senka you ll have to open your gates and let me in my boyIknow he told tales about me to my fatherIknow that well enough butIcertainly did rile my father about nastasia philipovna that s very sure and that was my own doing. nastasia philipovna said the clerk as though trying to think out something. come you know nothing about her said rogojin impatiently. and supposingIdo know something observed the other triumphantly. bosh there are plenty of nastasia philipovnas. and what an impertinent beast you are he added angrily.Ithought some creature like you would hang on to me as soon asIgot hold of my money. oh butIdo know as it happens said the clerk in an aggravating manner. lebedeff knows all about her. you are pleased to reproach me your excellency but what ifIprove thatIam right after all nastasia phillpovna s family name is barashkoffIknow you see and she is a very well known lady indeed and comes of a good family too. she is connected with one totski afanasy ivanovitch a man of considerable property a director of companies and so on and a great friend of general epanchin who is interested in the same matters as he is. my eyes said rogojin really surprised at last. the devil take the fellow how does he know that why he knows everything lebedeff knows everythingIwas a month or two with lihachof after his father died your excellency and while he was knocking about he s in the debtor s prison nowIwas with him and he couldnTdo a thing without lebedeff andIgot to know nastasia philipovna and several people at that time. nastasia philipovna why you donTmean to say that she and lihachof cried rogojin turning quite pale. no no no no no nothing of the sortIassure you said lebedeff hastily. oh dear no not for the world totski s the only man with any chance there. oh no he takes her to his box at the opera at the french theatre of an evening and the officers and people all look at her and say by jove there s the famous nastasia philipovna but no one ever gets any further than that for there is nothing more to say. yes it s quite true said rogojin frowning gloomily so zaleshoff told me.Iwas walking about the nefsky one fine day prince in my father s old coat when she suddenly came out of a shop and stepped into her carriage.IswearIwas all of a blaze at once. thenImet zaleshoff looking like a hair dresser s assistant got up as fine asIdonTknow who whileIlooked like a tinker. donTflatter yourself my boy said he she s not for such as you she s a princess she is and her name is nastasia philipovna barashkoff and she lives with totski who wishes to get rid of her because he s growing rather old fifty five or so and wants to marry a certain beauty the loveliest woman in all petersburg. and then he told me thatIcould see nastasia philipovna at the opera house that evening ifIliked and described which was her box. wellId like to see my father allowing any of us to go to the theatre he d sooner have killed us any day. howeverIwent for an hour or so and saw nastasia philipovna andInever slept a wink all night after. next morning my father happened to give me two government loan bonds to sell worth nearly five thousand roubles each. sell them said he and then take seven thousand five hundred roubles to the office give them to the cashier and bring me back the rest of the ten thousand without looking in anywhere on the way look sharpIshall be waiting for you. wellIsold the bonds butIdidnTtake the seven thousand roubles to the officeIwent straight to the english shop and chose a pair of earrings with a diamond the size of a nut in each. they cost four hundred roubles more thanIhad soIgave my name and they trusted me. with the earringsIwent at once to zaleshoff s. come onIsaid come on to nastasia philipovna s and off we went without more ado.Itell youIhadnTa notion of what was about me or before me or below my feet all the wayIsaw nothing whatever. we went straight into her drawing room and then she came out to us.IdidnTsay right out whoIwas but zaleshoff said from parfen rogojin in memory of his first meeting with you yesterday be so kind as to accept these she opened the parcel looked at the earrings and laughed. thank your friend mr. rogojin for his kind attention says she and bowed and went off. why didn tIdie there on the spot the worst of it all was though that the beast zaleshoff got all the credit of itIwas short and abominably dressed and stood and stared in her face and never said a word becauseIwas shy like an ass and there was he all in the fashion pomaded and dressed out with a smart tie on bowing and scraping andIbet anything she took him for me all the while look here nowIsaid when we came out none of your interference here after this do you understand he laughed and how are you going to settle up with your father says he.IthoughtImight as well jump into the neva at once without going home first but it struck me thatIwouldnTafter all andIwent home feeling like one of the damned. my goodness shivered the clerk. and his father he added for the prince s instruction and his father would have given a man a ticket to the other world for ten roubles any day not to speak of ten thousand the prince observed rogojin with great curiosity he seemed paler than ever at this moment. what do you know about it cried the latter. well my father learned the whole story at once and zaleshoff blabbed it all over the town besides. so he took me upstairs and locked me up and swore at me for an hour. this is only a foretaste says he wait a bit till night comes andIll come back and talk to you again. well what do you think the old fellow went straight off to nastasia philipovna touched the floor with his forehead and began blubbering and beseeching her on his knees to give him back the diamonds. so after awhile she brought the box and flew out at him. there she says take your earrings you wretched old miser although they are ten times dearer than their value to me now thatIknow what it must have cost parfen to get them give parfen my compliments she says and thank him very much wellImeanwhile had borrowed twenty five roubles from a friend and offIwent to pskoff to my aunt s. the old woman there lectured me so thatIleft the house and went on a drinking tour round the public houses of the place.Iwas in a high fever whenIgot to pskoff and by nightfallIwas lying delirious in the streets somewhere or other oho we ll make nastasia philipovna sing another song now giggled lebedeff rubbing his hands with glee. hey my boy we ll get her some proper earrings now we ll get her such earrings that look here cried rogojin seizing him fiercely by the arm look here if you so much as name nastasia philipovna againIll tan your hide as sure as you sit there aha do by all means if you tan my hide you wonTturn me away from your society. you ll bind me to you with your lash for ever. ha ha here we are at the station though. sure enough the train was just steaming in as he spoke. though rogojin had declared that he left pskoff secretly a large collection of friends had assembled to greet him and did so with profuse waving of hats and shouting. why there s zaleshoff here too he muttered gazing at the scene with a sort of triumphant but unpleasant smile. then he suddenly turned to the prince princeIdonTknow whyIhave taken a fancy to you perhaps becauseImet you just whenIdid. but no it canTbe that forImet this fellow nodding at lebedeff too andIhave not taken a fancy to him by any means. come to see me prince we ll take off those gaiters of yours and dress you up in a smart fur coat the best we can buy. you shall have a dress coat best quality white waistcoat anything you like and your pocket shall be full of money. come and you shall go with me to nastasia philipovna s. now then will you come or no accept accept prince lef nicolaievitch said lebedef solemnly donTlet it slip accept quick prince muishkin rose and stretched out his hand courteously while he replied with some cordialityIwill come with the greatest pleasure and thank you very much for taking a fancy to me.Idare sayImay even come today ifIhave time forItell you frankly thatIlike you very much too.Iliked you especially when you told us about the diamond earrings butIliked you before that as well though you have such a dark clouded sort of face. thanks very much for the offer of clothes and a fur coatIcertainly shall require both clothes and coat very soon. as for moneyIhave hardly a copeck about me at this moment. you shall have lots of money by the eveningIshall have plenty so come along that s true enough he ll have lots before evening put in lebedeff. but look here are you a great hand with the ladies let s know that first asked rogojin. oh no oh no said the princeIcouldnTyou know my illnessIhardly ever saw a soul. h m well here you fellow you can come along with me now if you like cried rogojin to lebedeff and so they all left the carriage. lebedeff had his desire. he went off with the noisy group of rogojin s friends towards the voznesensky while the prince s route lay towards the litaynaya. it was damp and wet. the prince asked his way of passers by and finding that he was a couple of miles or so from his destination he determined to take a droshky. \n"
     ]
    }
   ],
   "source": [
    "# Try to convert every single stand-alone instance of 'i' to 'I' in the corpus. \n",
    "# Make sure not to change the 'i' occuring in a word:\n",
    "processed_book= re.sub(r'\\si\\s',\" I \",processed_book)\n",
    "print(processed_book)\n"
   ]
  },
  {
   "cell_type": "code",
   "execution_count": 57,
   "metadata": {},
   "outputs": [
    {
     "data": {
      "text/plain": [
       "96"
      ]
     },
     "execution_count": 57,
     "metadata": {},
     "output_type": "execute_result"
    }
   ],
   "source": [
    "# Find the number of times anyone was quoted (\"\") in the corpus.\n",
    "len(re.findall(r'\\”', book))\n"
   ]
  },
  {
   "cell_type": "code",
   "execution_count": 59,
   "metadata": {},
   "outputs": [
    {
     "data": {
      "text/plain": [
       "[' ironical--it might almost be called a',\n",
       " 'malicious--smile',\n",
       " ' He wore a large fur--or rather',\n",
       " 'astrachan--overcoat',\n",
       " 'large cape to it--the sort of cloak one sees upon travellers during the',\n",
       " 'winter months in Switzerland or North Italy--was by no means adapted to',\n",
       " 'nervous malady--a kind of epilepsy',\n",
       " ' but my doctor gave me money--and he had very',\n",
       " 'little--to pay my journey back',\n",
       " 'No--Mr',\n",
       " 'That is--where am I going to stay',\n",
       " ' I--I really don',\n",
       " 'I--',\n",
       " '--though of course poverty is no crime',\n",
       " '--we must remember that',\n",
       " 'or--judge',\n",
       " 'from your costume and gaiters--still',\n",
       " '--if you can add to your possessions',\n",
       " 'error through--well',\n",
       " ' say--through a too luxuriant fancy',\n",
       " 'however--and that is commendable',\n",
       " ' Epanchin--oh yes',\n",
       " ' I know him too--at least',\n",
       " ' A fine fellow he was--and had a property of four thousand',\n",
       " ' Nicolai Andreevitch--that was his name',\n",
       " 'They are people who know everyone--that is',\n",
       " ' which they reduce--or raise',\n",
       " '--to the standard of a science',\n",
       " 'he would appear to listen--and heard nothing',\n",
       " ' in his history--but as an individual',\n",
       " '--one never',\n",
       " 'Oh yes--I did learn a little',\n",
       " ' but--',\n",
       " 't--not at all',\n",
       " ' dear me--then don',\n",
       " 'perhaps--',\n",
       " 'Yes--those very ones',\n",
       " 'Dear me--is it possible',\n",
       " 'expression of great deference and servility--if not of absolute',\n",
       " ' a son of that very Semen Rogojin--hereditary honourable',\n",
       " 'citizen--who died a month or so ago and left two million and a half of',\n",
       " ' at least--goodness gracious me',\n",
       " 's memory--but he uncommonly',\n",
       " ' the latter--since the information as to',\n",
       " 'the identity of Rogojin--hung over him',\n",
       " ' I angered him--I certainly did anger him',\n",
       " 'anything--she',\n",
       " 's too old--and whatever brother Senka says is law for her',\n",
       " 'you--scarecrow',\n",
       " ' certainly--certainly sacrilege',\n",
       " ' I know he told tales about me to my father--I know that well enough',\n",
       " 's family name is Barashkoff--I know',\n",
       " ' you see--and she is a',\n",
       " ' he knows everything--Lebedeff knows everything',\n",
       " 'was knocking about--he',\n",
       " 's prison now--I was with him',\n",
       " 'Lihachof--',\n",
       " 'Zaleshoff--looking like a hair',\n",
       " 'old--fifty',\n",
       " 'five or so--and wants to marry a certain beauty',\n",
       " 'here after this--do you understand',\n",
       " 'the other world for ten roubles any day--not to speak of ten thousand',\n",
       " 'll get her such earrings that--',\n",
       " ' do--by all means',\n",
       " ' you know--my illness',\n",
       " '--I',\n",
       " ' well--here',\n",
       " ' you fellow--you can come along with me now if you']"
      ]
     },
     "execution_count": 59,
     "metadata": {},
     "output_type": "execute_result"
    }
   ],
   "source": [
    "# What are the words connected by '--' in the corpus?\n",
    "re.findall(r'[A-Z a-z 0-9]*--[A-Z a-z 0-9]*',book)"
   ]
  },
  {
   "cell_type": "markdown",
   "metadata": {},
   "source": [
    "### Some Examples of Regular Expressions"
   ]
  },
  {
   "cell_type": "markdown",
   "metadata": {},
   "source": [
    "#### Problem 1: Return the first word of a given string"
   ]
  },
  {
   "cell_type": "code",
   "execution_count": 60,
   "metadata": {},
   "outputs": [
    {
     "name": "stdout",
     "output_type": "stream",
     "text": [
      "['A', 'V', ' ', 'i', 's', ' ', 'l', 'a', 'r', 'g', 'e', 's', 't', ' ', 'A', 'n', 'a', 'l', 'y', 't', 'i', 'c', 's', ' ', 'c', 'o', 'm', 'm', 'u', 'n', 'i', 't', 'y', ' ', 'o', 'f', ' ', 'I', 'n', 'd', 'i', 'a']\n"
     ]
    }
   ],
   "source": [
    "import re\n",
    "result=re.findall(r'.','AV is largest Analytics community of India')\n",
    "print (result)"
   ]
  },
  {
   "cell_type": "code",
   "execution_count": 61,
   "metadata": {},
   "outputs": [
    {
     "name": "stdout",
     "output_type": "stream",
     "text": [
      "['A', 'V', 'i', 's', 'l', 'a', 'r', 'g', 'e', 's', 't', 'A', 'n', 'a', 'l', 'y', 't', 'i', 'c', 's', 'c', 'o', 'm', 'm', 'u', 'n', 'i', 't', 'y', 'o', 'f', 'I', 'n', 'd', 'i', 'a']\n"
     ]
    }
   ],
   "source": [
    "result=re.findall(r'\\w','AV is largest Analytics community of India')\n",
    "print (result)"
   ]
  },
  {
   "cell_type": "markdown",
   "metadata": {},
   "source": [
    "####  Extract each word (using “*” or “+“)"
   ]
  },
  {
   "cell_type": "code",
   "execution_count": 62,
   "metadata": {},
   "outputs": [
    {
     "name": "stdout",
     "output_type": "stream",
     "text": [
      "['AV', '', 'is', '', 'largest', '', 'Analytics', '', 'community', '', 'of', '', 'India', '']\n"
     ]
    }
   ],
   "source": [
    "result=re.findall(r'\\w*','AV is largest Analytics community of India')\n",
    "print (result)"
   ]
  },
  {
   "cell_type": "code",
   "execution_count": 63,
   "metadata": {},
   "outputs": [
    {
     "name": "stdout",
     "output_type": "stream",
     "text": [
      "['AV', 'is', 'largest', 'Analytics', 'community', 'of', 'India']\n"
     ]
    }
   ],
   "source": [
    "result=re.findall(r'\\w+','AV is largest Analytics community of India')\n",
    "print (result)"
   ]
  },
  {
   "cell_type": "markdown",
   "metadata": {},
   "source": [
    "#### Extract each word (using “^“)"
   ]
  },
  {
   "cell_type": "code",
   "execution_count": 64,
   "metadata": {},
   "outputs": [
    {
     "name": "stdout",
     "output_type": "stream",
     "text": [
      "['AV']\n"
     ]
    }
   ],
   "source": [
    "result=re.findall(r'^\\w+','AV is largest Analytics community of India')\n",
    "print (result)"
   ]
  },
  {
   "cell_type": "code",
   "execution_count": 65,
   "metadata": {},
   "outputs": [
    {
     "name": "stdout",
     "output_type": "stream",
     "text": [
      "['India']\n"
     ]
    }
   ],
   "source": [
    "result=re.findall(r'\\w+$','AV is largest Analytics community of India')\n",
    "print (result)"
   ]
  },
  {
   "cell_type": "markdown",
   "metadata": {},
   "source": [
    "### Problem 2: Return the first two character of each word"
   ]
  },
  {
   "cell_type": "markdown",
   "metadata": {},
   "source": [
    "#### Extract consecutive two characters of each word, excluding spaces"
   ]
  },
  {
   "cell_type": "code",
   "execution_count": 66,
   "metadata": {},
   "outputs": [
    {
     "name": "stdout",
     "output_type": "stream",
     "text": [
      "['AV', 'is', 'la', 'rg', 'es', 'An', 'al', 'yt', 'ic', 'co', 'mm', 'un', 'it', 'of', 'In', 'di']\n"
     ]
    }
   ],
   "source": [
    "result=re.findall(r'\\w\\w','AV is largest Analytics community of India')\n",
    "print (result)"
   ]
  },
  {
   "cell_type": "markdown",
   "metadata": {},
   "source": [
    "#### Extract consecutive two characters those available at start of word boundary"
   ]
  },
  {
   "cell_type": "code",
   "execution_count": 68,
   "metadata": {},
   "outputs": [
    {
     "name": "stdout",
     "output_type": "stream",
     "text": [
      "['AV', 'is', 'la', 'An', 'co', 'of', 'In']\n"
     ]
    }
   ],
   "source": [
    "result=re.findall(r'\\b\\w.','AV is largest Analytics community of India')\n",
    "print (result)"
   ]
  },
  {
   "cell_type": "markdown",
   "metadata": {},
   "source": [
    "### Problem 3: Return the domain type of given email-ids"
   ]
  },
  {
   "cell_type": "markdown",
   "metadata": {},
   "source": [
    "#### Extract all characters after “@”"
   ]
  },
  {
   "cell_type": "code",
   "execution_count": 72,
   "metadata": {},
   "outputs": [
    {
     "name": "stdout",
     "output_type": "stream",
     "text": [
      "['@gmail', '@test', '@analyticsvidhya', '@rest']\n"
     ]
    }
   ],
   "source": [
    "result=re.findall(r'@\\w+','abc.test@gmail.com, xyz@test.in, test.first@analyticsvidhya.com, first.test@rest.biz') \n",
    "print (result )"
   ]
  },
  {
   "cell_type": "code",
   "execution_count": 74,
   "metadata": {},
   "outputs": [
    {
     "name": "stdout",
     "output_type": "stream",
     "text": [
      "['@gmail.com', '@test.in', '@analyticsvidhya.com', '@rest.biz']\n"
     ]
    }
   ],
   "source": [
    "result=re.findall(r'@\\w+.\\w+','abc.test@gmail.com, xyz@test.in, test.first@analyticsvidhya.com, first.test@rest.biz') \n",
    "print (result) "
   ]
  },
  {
   "cell_type": "markdown",
   "metadata": {},
   "source": [
    "#### Extract only domain name using “( )”"
   ]
  },
  {
   "cell_type": "code",
   "execution_count": 75,
   "metadata": {},
   "outputs": [
    {
     "name": "stdout",
     "output_type": "stream",
     "text": [
      "['com', 'in', 'com', 'biz']\n"
     ]
    }
   ],
   "source": [
    "result=re.findall(r'@\\w+.(\\w+)','abc.test@gmail.com, xyz@test.in, test.first@analyticsvidhya.com, first.test@rest.biz') \n",
    "print (result) "
   ]
  },
  {
   "cell_type": "markdown",
   "metadata": {},
   "source": [
    "### Problem 4: Return date from given string\n",
    "\n",
    "- Here we will use “\\d” to extract digit."
   ]
  },
  {
   "cell_type": "code",
   "execution_count": 76,
   "metadata": {},
   "outputs": [
    {
     "name": "stdout",
     "output_type": "stream",
     "text": [
      "['12-05-2007', '11-11-2011', '12-01-2009']\n"
     ]
    }
   ],
   "source": [
    "result=re.findall(r'\\d{2}-\\d{2}-\\d{4}','Amit 34-3456 12-05-2007, XYZ 56-4532 11-11-2011, ABC 67-8945 12-01-2009')\n",
    "print (result)"
   ]
  },
  {
   "cell_type": "code",
   "execution_count": 77,
   "metadata": {},
   "outputs": [
    {
     "name": "stdout",
     "output_type": "stream",
     "text": [
      "['2007', '2011', '2009']\n"
     ]
    }
   ],
   "source": [
    "# If you want to extract only year again parenthesis “( )” will help you.\n",
    "\n",
    "result=re.findall(r'\\d{2}-\\d{2}-(\\d{4})','Amit 34-3456 12-05-2007, XYZ 56-4532 11-11-2011, ABC 67-8945 12-01-2009')\n",
    "print (result)"
   ]
  },
  {
   "cell_type": "markdown",
   "metadata": {},
   "source": [
    "### Problem 5: Return all words of a string those starts with vowel"
   ]
  },
  {
   "cell_type": "code",
   "execution_count": 78,
   "metadata": {},
   "outputs": [
    {
     "name": "stdout",
     "output_type": "stream",
     "text": [
      "['AV', 'is', 'largest', 'Analytics', 'community', 'of', 'India']\n"
     ]
    }
   ],
   "source": [
    "#Return each words\n",
    "\n",
    "result=re.findall(r'\\w+','AV is largest Analytics community of India')\n",
    "print (result)"
   ]
  },
  {
   "cell_type": "code",
   "execution_count": 79,
   "metadata": {},
   "outputs": [
    {
     "name": "stdout",
     "output_type": "stream",
     "text": [
      "['AV', 'is', 'argest', 'Analytics', 'ommunity', 'of', 'India']\n"
     ]
    }
   ],
   "source": [
    "# Return words starts with alphabets (using [])\n",
    "\n",
    "result=re.findall(r'[aeiouAEIOU]\\w+','AV is largest Analytics community of India')\n",
    "print (result)"
   ]
  },
  {
   "cell_type": "code",
   "execution_count": 80,
   "metadata": {},
   "outputs": [
    {
     "name": "stdout",
     "output_type": "stream",
     "text": [
      "['AV', 'is', 'Analytics', 'of', 'India']\n"
     ]
    }
   ],
   "source": [
    "result=re.findall(r'\\b[aeiouAEIOU]\\w+','AV is largest Analytics community of India')\n",
    "print (result)"
   ]
  },
  {
   "cell_type": "code",
   "execution_count": 81,
   "metadata": {},
   "outputs": [
    {
     "name": "stdout",
     "output_type": "stream",
     "text": [
      "[' is', ' largest', ' Analytics', ' community', ' of', ' India']\n"
     ]
    }
   ],
   "source": [
    "# In similar ways, we can extract words those starts with constant using “^” within square bracket.\n",
    "\n",
    "result=re.findall(r'\\b[^aeiouAEIOU]\\w+','AV is largest Analytics community of India')\n",
    "print (result)"
   ]
  },
  {
   "cell_type": "code",
   "execution_count": 82,
   "metadata": {},
   "outputs": [
    {
     "name": "stdout",
     "output_type": "stream",
     "text": [
      "['largest', 'community']\n"
     ]
    }
   ],
   "source": [
    "# Above you can see that it has returned words starting with space. To drop it from output, include space in square bracket[].\n",
    "\n",
    "result=re.findall(r'\\b[^aeiouAEIOU ]\\w+','AV is largest Analytics community of India')\n",
    "print (result)"
   ]
  },
  {
   "cell_type": "markdown",
   "metadata": {},
   "source": [
    "### Problem 6: Validate a phone number (phone number must be of 10 digits and starts with 8 or 9) "
   ]
  },
  {
   "cell_type": "code",
   "execution_count": 84,
   "metadata": {},
   "outputs": [
    {
     "name": "stdout",
     "output_type": "stream",
     "text": [
      "yes\n",
      "no\n",
      "no\n"
     ]
    }
   ],
   "source": [
    "import re\n",
    "li=['9999999999','999999-999','99999x9999']\n",
    "for val in li:\n",
    " if re.match(r'[8-9]{1}[0-9]{9}',val) and len(val) == 10:\n",
    "     print ('yes')\n",
    " else:\n",
    "     print ('no')"
   ]
  },
  {
   "cell_type": "markdown",
   "metadata": {},
   "source": [
    "### Problem 6: Validate a phone number (phone number must be of 10 digits and starts with 7 or 8 or 9)\n"
   ]
  },
  {
   "cell_type": "code",
   "execution_count": 85,
   "metadata": {},
   "outputs": [
    {
     "name": "stdout",
     "output_type": "stream",
     "text": [
      "yes\n",
      "yes\n",
      "no\n",
      "yes\n",
      "yes\n"
     ]
    }
   ],
   "source": [
    "import re\n",
    "li=['9999999999','9999998999','99999x9999','7897675452','8923456721']\n",
    "for val in li:\n",
    " if re.match(r'[7-8-9]{1}[0-9]{9}',val) and len(val) == 10:\n",
    "     print ('yes')\n",
    " else:\n",
    "     print ('no')"
   ]
  },
  {
   "cell_type": "markdown",
   "metadata": {},
   "source": [
    "### Problem 7: Split a string with multiple delimiters"
   ]
  },
  {
   "cell_type": "code",
   "execution_count": 86,
   "metadata": {},
   "outputs": [
    {
     "name": "stdout",
     "output_type": "stream",
     "text": [
      "['asdf', 'fjdk', 'afed', 'fjek', 'asdf', 'foo', 'shrikant']\n"
     ]
    }
   ],
   "source": [
    "import re\n",
    "line = 'asdf fjdk;afed,fjek,asdf,foo?shrikant' # String has multiple delimiters (\";\",\",\",\" \",\"?\").\n",
    "result= re.split(r'[?,;,\\s]', line)\n",
    "print (result)"
   ]
  },
  {
   "cell_type": "code",
   "execution_count": 87,
   "metadata": {},
   "outputs": [
    {
     "name": "stdout",
     "output_type": "stream",
     "text": [
      "asdf fjdk afed fjek asdf foo\n"
     ]
    }
   ],
   "source": [
    "# We can also use method re.sub() to replace these multiple delimiters with one as space ” “.\n",
    "\n",
    "import re\n",
    "line = 'asdf fjdk;afed,fjek,asdf,foo'\n",
    "result= re.sub(r'[;,\\s]',' ', line)\n",
    "print (result)"
   ]
  },
  {
   "cell_type": "markdown",
   "metadata": {},
   "source": [
    "### Problem 8: Retrieve Information from HTML file\n",
    "\n",
    "I want to extract information from a HTML file (see below sample data). Here we need to extract information available between <td> and </td> except the first numerical index. I have assumed here that below html code is stored in a string str.\n",
    "\n",
    "Sample HTML file (str)"
   ]
  },
  {
   "cell_type": "code",
   "execution_count": 90,
   "metadata": {},
   "outputs": [
    {
     "ename": "SyntaxError",
     "evalue": "invalid syntax (<ipython-input-90-4b3970bc0d7c>, line 1)",
     "output_type": "error",
     "traceback": [
      "\u001b[1;36m  File \u001b[1;32m\"<ipython-input-90-4b3970bc0d7c>\"\u001b[1;36m, line \u001b[1;32m1\u001b[0m\n\u001b[1;33m    string =   <tr align=center><td>1</td> <td>Noah</td> <td>Emma</td></tr>\u001b[0m\n\u001b[1;37m               ^\u001b[0m\n\u001b[1;31mSyntaxError\u001b[0m\u001b[1;31m:\u001b[0m invalid syntax\n"
     ]
    }
   ],
   "source": []
  },
  {
   "cell_type": "markdown",
   "metadata": {},
   "source": [
    "Operators \tDescription\n",
    ". \t Matches with any single character except newline ‘\\n’.\n",
    "? \t match 0 or 1 occurrence of the pattern to its left\n",
    "+ \t 1 or more occurrences of the pattern to its left\n",
    "* \t 0 or more occurrences of the pattern to its left\n",
    "\\w \t Matches with a alphanumeric character whereas \\W (upper case W) matches non alphanumeric character.\n",
    "\\d \t  Matches with digits [0-9] and /D (upper case D) matches with non-digits.\n",
    "\\s \t Matches with a single white space character (space, newline, return, tab, form) and \\S (upper case S) matches any non-white space character.\n",
    "\\b \t boundary between word and non-word and /B is opposite of /b\n",
    "[..] \t Matches any single character in a square bracket and [^..] matches any single character not in square bracket\n",
    "\\ \t It is used for special meaning characters like \\. to match a period or \\+ for plus sign.\n",
    "^ and $ \t ^ and $ match the start or end of the string respectively\n",
    "{n,m} \t Matches at least n and at most m occurrences of preceding expression if we write it as {,m} then it will return at least any minimum occurrence to max m preceding expression.\n",
    "a| b \t Matches either a or b\n",
    "( ) \tGroups regular expressions and returns matched text\n",
    "\\t, \\n, \\r \t Matches tab, newline, return"
   ]
  },
  {
   "cell_type": "code",
   "execution_count": null,
   "metadata": {},
   "outputs": [],
   "source": []
  }
 ],
 "metadata": {
  "kernelspec": {
   "display_name": "Python 3",
   "language": "python",
   "name": "python3"
  },
  "language_info": {
   "codemirror_mode": {
    "name": "ipython",
    "version": 3
   },
   "file_extension": ".py",
   "mimetype": "text/x-python",
   "name": "python",
   "nbconvert_exporter": "python",
   "pygments_lexer": "ipython3",
   "version": "3.6.4"
  }
 },
 "nbformat": 4,
 "nbformat_minor": 2
}
